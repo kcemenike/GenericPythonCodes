{
 "cells": [
  {
   "cell_type": "markdown",
   "metadata": {},
   "source": [
    "# Get focus words of any random bbc.com/sport article"
   ]
  },
  {
   "cell_type": "code",
   "execution_count": 1,
   "metadata": {},
   "outputs": [],
   "source": [
    "# Import modules\n",
    "import requests, random\n",
    "from nltk.tokenize import word_tokenize\n",
    "from nltk.corpus import stopwords\n",
    "from bs4 import BeautifulSoup\n",
    "from collections import Counter\n",
    "from nltk.stem import WordNetLemmatizer"
   ]
  },
  {
   "cell_type": "code",
   "execution_count": 2,
   "metadata": {},
   "outputs": [],
   "source": [
    "# Get source page - bbc.com/sport using html.parser of BeautifulSoup\n",
    "page = requests.get(\"https://www.bbc.com/sport\").content\n",
    "soupy = BeautifulSoup(page, \"html.parser\")"
   ]
  },
  {
   "cell_type": "code",
   "execution_count": 3,
   "metadata": {},
   "outputs": [],
   "source": [
    "# Remove script and style tags\n",
    "for chunk in soupy(['script', 'style']):\n",
    "    chunk.extract()"
   ]
  },
  {
   "cell_type": "code",
   "execution_count": 4,
   "metadata": {},
   "outputs": [],
   "source": [
    "# Get headline URLs from page\n",
    "# The headline clas is gs-c-promo-heading\n",
    "anchor = soupy.findAll(\"a\")\n",
    "urllist = []\n",
    "for x in anchor:\n",
    "    if x.has_attr(\"class\") and \"gs-c-promo-heading\" in x[\"class\"]:\n",
    "        if x.get(\"href\")[0]==\"/\": # focuses on only the relative links i.e. /sport/3882920\n",
    "            urllist.append(\"https://bbc.co.uk\"+x.get(\"href\"))"
   ]
  },
  {
   "cell_type": "code",
   "execution_count": 5,
   "metadata": {},
   "outputs": [],
   "source": [
    "# print(urllist)"
   ]
  },
  {
   "cell_type": "code",
   "execution_count": 6,
   "metadata": {},
   "outputs": [
    {
     "name": "stdout",
     "output_type": "stream",
     "text": [
      "Wilder v Fury rematch? Wilder v Joshua? Joshua v Fury? What next for heavyweight division? - BBC Sport\n"
     ]
    }
   ],
   "source": [
    "# Parse random link in urllist\n",
    "page = requests.get(urllist[random.randint(0,len(urllist)-1)]).text\n",
    "soup = BeautifulSoup(page, \"html.parser\")\n",
    "for chunk in soup(['script', 'style']):\n",
    "    chunk.extract()\n",
    "    \n",
    "print(soup.title.get_text()) # Just for visual purposes, print url title\n",
    "# print(soup)"
   ]
  },
  {
   "cell_type": "code",
   "execution_count": 7,
   "metadata": {},
   "outputs": [],
   "source": [
    "# We've made the dangerous assumption that the main body of the article starts at index 3 and ends at index -5\n",
    "article = [line for line in soup.body.get_text().splitlines()[3:-5] if len(line)!=0]\n",
    "# article[:10]"
   ]
  },
  {
   "cell_type": "code",
   "execution_count": 8,
   "metadata": {},
   "outputs": [],
   "source": [
    "# Tokenize data\n",
    "# loop through each sentence in article\n",
    "# Then loop through each word in sentence and tokenize the lowercase string\n",
    "# check that the word is not a stopword and doesn't have symbols\n",
    "tokenized = [word for sentence in article for word in word_tokenize(sentence.lower()) if word.isalpha() and word not in stopwords.words('english')]\n",
    "# tokenized[:10]"
   ]
  },
  {
   "cell_type": "code",
   "execution_count": 9,
   "metadata": {},
   "outputs": [
    {
     "data": {
      "text/plain": [
       "[('fury', 21), ('wilder', 16), ('boxing', 9), ('joshua', 8), ('rematch', 8)]"
      ]
     },
     "execution_count": 9,
     "metadata": {},
     "output_type": "execute_result"
    }
   ],
   "source": [
    "# What are the top 5 common words\n",
    "Counter(tokenized).most_common(5)"
   ]
  },
  {
   "cell_type": "code",
   "execution_count": 10,
   "metadata": {},
   "outputs": [
    {
     "name": "stdout",
     "output_type": "stream",
     "text": [
      "The article is about Fury and Wilder\n"
     ]
    }
   ],
   "source": [
    "print(f\"The article is about {Counter(tokenized).most_common()[0][0].capitalize()} and {Counter(tokenized).most_common()[1][0].capitalize()}\")"
   ]
  },
  {
   "cell_type": "code",
   "execution_count": 11,
   "metadata": {},
   "outputs": [],
   "source": [
    "# Let's see if lemmatization changes things\n",
    "# Lemmatize using the verb argument v\n",
    "# This makes all verb words change to their root word, e.g. loving to love, sharing to share\n",
    "lemmatized = [WordNetLemmatizer().lemmatize(word, 'v') for sentence in article for word in word_tokenize(sentence.lower()) \n",
    "             if word.isalpha() and word not in stopwords.words('english')]"
   ]
  },
  {
   "cell_type": "code",
   "execution_count": 12,
   "metadata": {},
   "outputs": [
    {
     "data": {
      "text/plain": [
       "[('fury', 21), ('wilder', 16), ('get', 11), ('box', 9), ('joshua', 8)]"
      ]
     },
     "execution_count": 12,
     "metadata": {},
     "output_type": "execute_result"
    }
   ],
   "source": [
    "Counter(lemmatized).most_common(5)"
   ]
  },
  {
   "cell_type": "code",
   "execution_count": 13,
   "metadata": {},
   "outputs": [
    {
     "name": "stdout",
     "output_type": "stream",
     "text": [
      "The guessed focus words of the article are 'Fury' and 'Wilder'\n",
      "To confirm, the title is \n",
      "Wilder v Fury rematch? Wilder v Joshua? Joshua v Fury? What next for heavyweight division? - BBC Sport\n"
     ]
    }
   ],
   "source": [
    "print(f\"The guessed focus words of the article are '{Counter(tokenized).most_common(5)[0][0].capitalize()}' and '{Counter(tokenized).most_common(5)[1][0].capitalize()}'\")\n",
    "print(f\"To confirm, the title is \\n{soup.title.get_text()}\")"
   ]
  }
 ],
 "metadata": {
  "kernelspec": {
   "display_name": "Python 3",
   "language": "python",
   "name": "python3"
  },
  "language_info": {
   "codemirror_mode": {
    "name": "ipython",
    "version": 3
   },
   "file_extension": ".py",
   "mimetype": "text/x-python",
   "name": "python",
   "nbconvert_exporter": "python",
   "pygments_lexer": "ipython3",
   "version": "3.6.7"
  }
 },
 "nbformat": 4,
 "nbformat_minor": 2
}
