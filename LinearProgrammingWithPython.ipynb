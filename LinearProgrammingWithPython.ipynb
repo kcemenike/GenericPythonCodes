{
 "cells": [
  {
   "cell_type": "markdown",
   "metadata": {},
   "source": [
    "## Linear Programming with Python, by [AnalyticsVidhya](#) <design by kcEmenike>\n",
    "\n",
    "### Case Study: Creating a TED watchlist of videos\n",
    "***\n",
    "\n",
    "TED publishes hundreds of videos in various languages, and because there are so many videos and so little time available, I intend to maximise my use of time to watch as many videos as possible.\n",
    "\n",
    "The objective is:\n",
    "- Decide on which talk to watch (i.e. to watch or not to watch a talk) so that I watch the highest number of videos\n",
    "\n",
    "**Constraints are such that:**\n",
    "- <font color=red>Only 10 hours are available for all videos</font>\n",
    "- <font color=red>I can only watch 25 videos</font>\n",
    "\n",
    "How can I maximise the little time to make a decision on which video to watch?\n",
    "\n",
    "*The dataset is available at [rounakbanik/ted-talks](https://www.kaggle.com/rounakbanik/ted-talks) on Kaggle*\n",
    "\n",
    "***\n",
    "### Table of Content\n",
    "- [Import items](#import-items)\n",
    "- [Get data](#get-data)\n",
    "- [Choose important data for analytics](#choose-data)\n",
    "- [Create optimisation object from PuLP and define optimisation problem type (minimisation or maximisation)](#create-lp-object)\n",
    "- [Define constraints](#constraints)\n",
    "- [Run optimisation and write results to LP file](#run-lp-optimisation)\n",
    "- [Convert optimisation result to readable decision-making format](#convert-optimisation)\n",
    "- [Show optimisation result](#show-lp-result)"
   ]
  },
  {
   "cell_type": "markdown",
   "metadata": {},
   "source": [
    "<a id='import-items'></a>"
   ]
  },
  {
   "cell_type": "code",
   "execution_count": 1,
   "metadata": {},
   "outputs": [],
   "source": [
    "import pandas as pd, numpy as np, re, matplotlib.pyplot as plt\n",
    "from pulp import *\n",
    "from IPython.display import display, HTML\n",
    "%matplotlib inline"
   ]
  },
  {
   "cell_type": "markdown",
   "metadata": {},
   "source": [
    "<a id='get-data'></a>"
   ]
  },
  {
   "cell_type": "code",
   "execution_count": 2,
   "metadata": {},
   "outputs": [
    {
     "name": "stdout",
     "output_type": "stream",
     "text": [
      "name             size  creationDate         \n",
      "---------------  ----  -------------------  \n",
      "ted_main.csv      2MB  2017-09-25 21:08:55  \n",
      "transcripts.csv  10MB  2017-09-25 21:09:14  \n"
     ]
    }
   ],
   "source": [
    "!kaggle datasets files rounakbanik/ted-talks"
   ]
  },
  {
   "cell_type": "code",
   "execution_count": 3,
   "metadata": {},
   "outputs": [
    {
     "name": "stdout",
     "output_type": "stream",
     "text": [
      "ted-talks.zip: Skipping, found more recently modified local copy (use --force to force download)\n"
     ]
    }
   ],
   "source": [
    "!kaggle datasets download rounakbanik/ted-talks --unzip\n",
    "ted = pd.read_csv('ted_main.csv', encoding='ISO-8859-1')"
   ]
  },
  {
   "cell_type": "code",
   "execution_count": 4,
   "metadata": {},
   "outputs": [
    {
     "data": {
      "text/html": [
       "<div>\n",
       "<style scoped>\n",
       "    .dataframe tbody tr th:only-of-type {\n",
       "        vertical-align: middle;\n",
       "    }\n",
       "\n",
       "    .dataframe tbody tr th {\n",
       "        vertical-align: top;\n",
       "    }\n",
       "\n",
       "    .dataframe thead th {\n",
       "        text-align: right;\n",
       "    }\n",
       "</style>\n",
       "<table border=\"1\" class=\"dataframe\">\n",
       "  <thead>\n",
       "    <tr style=\"text-align: right;\">\n",
       "      <th></th>\n",
       "      <th>comments</th>\n",
       "      <th>description</th>\n",
       "      <th>duration</th>\n",
       "      <th>event</th>\n",
       "      <th>film_date</th>\n",
       "      <th>languages</th>\n",
       "      <th>main_speaker</th>\n",
       "      <th>name</th>\n",
       "      <th>num_speaker</th>\n",
       "      <th>published_date</th>\n",
       "      <th>ratings</th>\n",
       "      <th>related_talks</th>\n",
       "      <th>speaker_occupation</th>\n",
       "      <th>tags</th>\n",
       "      <th>title</th>\n",
       "      <th>url</th>\n",
       "      <th>views</th>\n",
       "    </tr>\n",
       "  </thead>\n",
       "  <tbody>\n",
       "    <tr>\n",
       "      <th>0</th>\n",
       "      <td>4553</td>\n",
       "      <td>Sir Ken Robinson makes an entertaining and pro...</td>\n",
       "      <td>1164</td>\n",
       "      <td>TED2006</td>\n",
       "      <td>1140825600</td>\n",
       "      <td>60</td>\n",
       "      <td>Ken Robinson</td>\n",
       "      <td>Ken Robinson: Do schools kill creativity?</td>\n",
       "      <td>1</td>\n",
       "      <td>1151367060</td>\n",
       "      <td>[{'id': 7, 'name': 'Funny', 'count': 19645}, {...</td>\n",
       "      <td>[{'id': 865, 'hero': 'https://pe.tedcdn.com/im...</td>\n",
       "      <td>Author/educator</td>\n",
       "      <td>['children', 'creativity', 'culture', 'dance',...</td>\n",
       "      <td>Do schools kill creativity?</td>\n",
       "      <td>https://www.ted.com/talks/ken_robinson_says_sc...</td>\n",
       "      <td>47227110</td>\n",
       "    </tr>\n",
       "    <tr>\n",
       "      <th>1</th>\n",
       "      <td>265</td>\n",
       "      <td>With the same humor and humanity he exuded in ...</td>\n",
       "      <td>977</td>\n",
       "      <td>TED2006</td>\n",
       "      <td>1140825600</td>\n",
       "      <td>43</td>\n",
       "      <td>Al Gore</td>\n",
       "      <td>Al Gore: Averting the climate crisis</td>\n",
       "      <td>1</td>\n",
       "      <td>1151367060</td>\n",
       "      <td>[{'id': 7, 'name': 'Funny', 'count': 544}, {'i...</td>\n",
       "      <td>[{'id': 243, 'hero': 'https://pe.tedcdn.com/im...</td>\n",
       "      <td>Climate advocate</td>\n",
       "      <td>['alternative energy', 'cars', 'climate change...</td>\n",
       "      <td>Averting the climate crisis</td>\n",
       "      <td>https://www.ted.com/talks/al_gore_on_averting_...</td>\n",
       "      <td>3200520</td>\n",
       "    </tr>\n",
       "    <tr>\n",
       "      <th>2</th>\n",
       "      <td>124</td>\n",
       "      <td>New York Times columnist David Pogue takes aim...</td>\n",
       "      <td>1286</td>\n",
       "      <td>TED2006</td>\n",
       "      <td>1140739200</td>\n",
       "      <td>26</td>\n",
       "      <td>David Pogue</td>\n",
       "      <td>David Pogue: Simplicity sells</td>\n",
       "      <td>1</td>\n",
       "      <td>1151367060</td>\n",
       "      <td>[{'id': 7, 'name': 'Funny', 'count': 964}, {'i...</td>\n",
       "      <td>[{'id': 1725, 'hero': 'https://pe.tedcdn.com/i...</td>\n",
       "      <td>Technology columnist</td>\n",
       "      <td>['computers', 'entertainment', 'interface desi...</td>\n",
       "      <td>Simplicity sells</td>\n",
       "      <td>https://www.ted.com/talks/david_pogue_says_sim...</td>\n",
       "      <td>1636292</td>\n",
       "    </tr>\n",
       "    <tr>\n",
       "      <th>3</th>\n",
       "      <td>200</td>\n",
       "      <td>In an emotionally charged talk, MacArthur-winn...</td>\n",
       "      <td>1116</td>\n",
       "      <td>TED2006</td>\n",
       "      <td>1140912000</td>\n",
       "      <td>35</td>\n",
       "      <td>Majora Carter</td>\n",
       "      <td>Majora Carter: Greening the ghetto</td>\n",
       "      <td>1</td>\n",
       "      <td>1151367060</td>\n",
       "      <td>[{'id': 3, 'name': 'Courageous', 'count': 760}...</td>\n",
       "      <td>[{'id': 1041, 'hero': 'https://pe.tedcdn.com/i...</td>\n",
       "      <td>Activist for environmental justice</td>\n",
       "      <td>['MacArthur grant', 'activism', 'business', 'c...</td>\n",
       "      <td>Greening the ghetto</td>\n",
       "      <td>https://www.ted.com/talks/majora_carter_s_tale...</td>\n",
       "      <td>1697550</td>\n",
       "    </tr>\n",
       "    <tr>\n",
       "      <th>4</th>\n",
       "      <td>593</td>\n",
       "      <td>You've never seen data presented like this. Wi...</td>\n",
       "      <td>1190</td>\n",
       "      <td>TED2006</td>\n",
       "      <td>1140566400</td>\n",
       "      <td>48</td>\n",
       "      <td>Hans Rosling</td>\n",
       "      <td>Hans Rosling: The best stats you've ever seen</td>\n",
       "      <td>1</td>\n",
       "      <td>1151440680</td>\n",
       "      <td>[{'id': 9, 'name': 'Ingenious', 'count': 3202}...</td>\n",
       "      <td>[{'id': 2056, 'hero': 'https://pe.tedcdn.com/i...</td>\n",
       "      <td>Global health expert; data visionary</td>\n",
       "      <td>['Africa', 'Asia', 'Google', 'demo', 'economic...</td>\n",
       "      <td>The best stats you've ever seen</td>\n",
       "      <td>https://www.ted.com/talks/hans_rosling_shows_t...</td>\n",
       "      <td>12005869</td>\n",
       "    </tr>\n",
       "  </tbody>\n",
       "</table>\n",
       "</div>"
      ],
      "text/plain": [
       "   comments                                        description  duration  \\\n",
       "0      4553  Sir Ken Robinson makes an entertaining and pro...      1164   \n",
       "1       265  With the same humor and humanity he exuded in ...       977   \n",
       "2       124  New York Times columnist David Pogue takes aim...      1286   \n",
       "3       200  In an emotionally charged talk, MacArthur-winn...      1116   \n",
       "4       593  You've never seen data presented like this. Wi...      1190   \n",
       "\n",
       "     event   film_date  languages   main_speaker  \\\n",
       "0  TED2006  1140825600         60   Ken Robinson   \n",
       "1  TED2006  1140825600         43        Al Gore   \n",
       "2  TED2006  1140739200         26    David Pogue   \n",
       "3  TED2006  1140912000         35  Majora Carter   \n",
       "4  TED2006  1140566400         48   Hans Rosling   \n",
       "\n",
       "                                            name  num_speaker  published_date  \\\n",
       "0      Ken Robinson: Do schools kill creativity?            1      1151367060   \n",
       "1           Al Gore: Averting the climate crisis            1      1151367060   \n",
       "2                  David Pogue: Simplicity sells            1      1151367060   \n",
       "3             Majora Carter: Greening the ghetto            1      1151367060   \n",
       "4  Hans Rosling: The best stats you've ever seen            1      1151440680   \n",
       "\n",
       "                                             ratings  \\\n",
       "0  [{'id': 7, 'name': 'Funny', 'count': 19645}, {...   \n",
       "1  [{'id': 7, 'name': 'Funny', 'count': 544}, {'i...   \n",
       "2  [{'id': 7, 'name': 'Funny', 'count': 964}, {'i...   \n",
       "3  [{'id': 3, 'name': 'Courageous', 'count': 760}...   \n",
       "4  [{'id': 9, 'name': 'Ingenious', 'count': 3202}...   \n",
       "\n",
       "                                       related_talks  \\\n",
       "0  [{'id': 865, 'hero': 'https://pe.tedcdn.com/im...   \n",
       "1  [{'id': 243, 'hero': 'https://pe.tedcdn.com/im...   \n",
       "2  [{'id': 1725, 'hero': 'https://pe.tedcdn.com/i...   \n",
       "3  [{'id': 1041, 'hero': 'https://pe.tedcdn.com/i...   \n",
       "4  [{'id': 2056, 'hero': 'https://pe.tedcdn.com/i...   \n",
       "\n",
       "                     speaker_occupation  \\\n",
       "0                       Author/educator   \n",
       "1                      Climate advocate   \n",
       "2                  Technology columnist   \n",
       "3    Activist for environmental justice   \n",
       "4  Global health expert; data visionary   \n",
       "\n",
       "                                                tags  \\\n",
       "0  ['children', 'creativity', 'culture', 'dance',...   \n",
       "1  ['alternative energy', 'cars', 'climate change...   \n",
       "2  ['computers', 'entertainment', 'interface desi...   \n",
       "3  ['MacArthur grant', 'activism', 'business', 'c...   \n",
       "4  ['Africa', 'Asia', 'Google', 'demo', 'economic...   \n",
       "\n",
       "                             title  \\\n",
       "0      Do schools kill creativity?   \n",
       "1      Averting the climate crisis   \n",
       "2                 Simplicity sells   \n",
       "3              Greening the ghetto   \n",
       "4  The best stats you've ever seen   \n",
       "\n",
       "                                                 url     views  \n",
       "0  https://www.ted.com/talks/ken_robinson_says_sc...  47227110  \n",
       "1  https://www.ted.com/talks/al_gore_on_averting_...   3200520  \n",
       "2  https://www.ted.com/talks/david_pogue_says_sim...   1636292  \n",
       "3  https://www.ted.com/talks/majora_carter_s_tale...   1697550  \n",
       "4  https://www.ted.com/talks/hans_rosling_shows_t...  12005869  "
      ]
     },
     "execution_count": 4,
     "metadata": {},
     "output_type": "execute_result"
    }
   ],
   "source": [
    "ted.head()"
   ]
  },
  {
   "cell_type": "markdown",
   "metadata": {},
   "source": [
    "<a id='choose-data'></a>"
   ]
  },
  {
   "cell_type": "code",
   "execution_count": 5,
   "metadata": {},
   "outputs": [],
   "source": [
    "# What is the target, and what are the labels needed?\n",
    "data = ted.copy()"
   ]
  },
  {
   "cell_type": "code",
   "execution_count": 6,
   "metadata": {},
   "outputs": [
    {
     "data": {
      "text/html": [
       "<div>\n",
       "<style scoped>\n",
       "    .dataframe tbody tr th:only-of-type {\n",
       "        vertical-align: middle;\n",
       "    }\n",
       "\n",
       "    .dataframe tbody tr th {\n",
       "        vertical-align: top;\n",
       "    }\n",
       "\n",
       "    .dataframe thead th {\n",
       "        text-align: right;\n",
       "    }\n",
       "</style>\n",
       "<table border=\"1\" class=\"dataframe\">\n",
       "  <thead>\n",
       "    <tr style=\"text-align: right;\">\n",
       "      <th></th>\n",
       "      <th>index</th>\n",
       "      <th>name</th>\n",
       "      <th>event</th>\n",
       "      <th>duration</th>\n",
       "      <th>views</th>\n",
       "    </tr>\n",
       "  </thead>\n",
       "  <tbody>\n",
       "    <tr>\n",
       "      <th>0</th>\n",
       "      <td>0</td>\n",
       "      <td>Ken Robinson: Do schools kill creativity?</td>\n",
       "      <td>TED2006</td>\n",
       "      <td>19.4</td>\n",
       "      <td>47227110</td>\n",
       "    </tr>\n",
       "    <tr>\n",
       "      <th>1</th>\n",
       "      <td>1</td>\n",
       "      <td>Al Gore: Averting the climate crisis</td>\n",
       "      <td>TED2006</td>\n",
       "      <td>16.3</td>\n",
       "      <td>3200520</td>\n",
       "    </tr>\n",
       "    <tr>\n",
       "      <th>2</th>\n",
       "      <td>2</td>\n",
       "      <td>David Pogue: Simplicity sells</td>\n",
       "      <td>TED2006</td>\n",
       "      <td>21.4</td>\n",
       "      <td>1636292</td>\n",
       "    </tr>\n",
       "    <tr>\n",
       "      <th>3</th>\n",
       "      <td>3</td>\n",
       "      <td>Majora Carter: Greening the ghetto</td>\n",
       "      <td>TED2006</td>\n",
       "      <td>18.6</td>\n",
       "      <td>1697550</td>\n",
       "    </tr>\n",
       "    <tr>\n",
       "      <th>4</th>\n",
       "      <td>4</td>\n",
       "      <td>Hans Rosling: The best stats you've ever seen</td>\n",
       "      <td>TED2006</td>\n",
       "      <td>19.8</td>\n",
       "      <td>12005869</td>\n",
       "    </tr>\n",
       "  </tbody>\n",
       "</table>\n",
       "</div>"
      ],
      "text/plain": [
       "   index                                           name    event  duration  \\\n",
       "0      0      Ken Robinson: Do schools kill creativity?  TED2006      19.4   \n",
       "1      1           Al Gore: Averting the climate crisis  TED2006      16.3   \n",
       "2      2                  David Pogue: Simplicity sells  TED2006      21.4   \n",
       "3      3             Majora Carter: Greening the ghetto  TED2006      18.6   \n",
       "4      4  Hans Rosling: The best stats you've ever seen  TED2006      19.8   \n",
       "\n",
       "      views  \n",
       "0  47227110  \n",
       "1   3200520  \n",
       "2   1636292  \n",
       "3   1697550  \n",
       "4  12005869  "
      ]
     },
     "execution_count": 6,
     "metadata": {},
     "output_type": "execute_result"
    }
   ],
   "source": [
    "# Let's use only the name, event, duration and views columns (discretion)\n",
    "data = data[['name','event','duration','views']].reset_index()#.drop('index', axis=1)\n",
    "data['duration'] = data['duration'].div(60).round(1)\n",
    "data.head()"
   ]
  },
  {
   "cell_type": "markdown",
   "metadata": {},
   "source": [
    "<a id='create-lp-object'></a>"
   ]
  },
  {
   "cell_type": "code",
   "execution_count": 7,
   "metadata": {},
   "outputs": [],
   "source": [
    "# Setup the Linear Programmign object as a Maximisation problem\n",
    "prob = pulp.LpProblem('WatchingTEDTalks',pulp.LpMaximize)"
   ]
  },
  {
   "cell_type": "code",
   "execution_count": 8,
   "metadata": {},
   "outputs": [
    {
     "name": "stdout",
     "output_type": "stream",
     "text": [
      "Total number of decision variables is 2550\n"
     ]
    }
   ],
   "source": [
    "# Create the decision variables\n",
    "# Iterate over each row and assign to the decision variable using LpVariable\n",
    "\n",
    "decision_variables = []\n",
    "for rownum, row in data.iterrows():\n",
    "    variable = str('x' + str(row['index'])) # create variables x0, x1, etc\n",
    "    variable = pulp.LpVariable(str(variable), lowBound=0, upBound=1, cat='Integer') # make variables binary\n",
    "    decision_variables.append(variable)\n",
    "    \n",
    "print(f\"Total number of decision variables is {len(decision_variables)}\")"
   ]
  },
  {
   "cell_type": "code",
   "execution_count": 9,
   "metadata": {},
   "outputs": [],
   "source": [
    "# Create optimisation function\n",
    "total_views = \"\"\n",
    "for rownum, row in data.iterrows():\n",
    "    for i, talk in enumerate(decision_variables):\n",
    "        if rownum==i:\n",
    "            formula = row['views']*talk\n",
    "            total_views += formula\n",
    "            \n",
    "prob += total_views"
   ]
  },
  {
   "cell_type": "markdown",
   "metadata": {},
   "source": [
    "<a id='constraints'></a>"
   ]
  },
  {
   "cell_type": "code",
   "execution_count": 10,
   "metadata": {},
   "outputs": [],
   "source": [
    "# Define constraints\n",
    "total_time_available_for_talks = 10*60 # 10 hours available\n",
    "total_talks_can_watch = 25 # Can't watch more than 25 talks in the time available\n",
    "\n",
    "# Build the constraint function for total time for talks\n",
    "total_time_talks = \"\"\n",
    "for rownum, row in data.iterrows():\n",
    "    for i, talk in enumerate(decision_variables):\n",
    "        if rownum == i:\n",
    "            formula = row['duration'] * talk\n",
    "            total_time_talks += formula\n",
    "            \n",
    "prob += (total_time_talks == total_time_available_for_talks)"
   ]
  },
  {
   "cell_type": "code",
   "execution_count": 11,
   "metadata": {},
   "outputs": [],
   "source": [
    "# Another constraint\n",
    "total_talks = \"\"\n",
    "\n",
    "for rownum, row in data.iterrows():\n",
    "    for i, talk in enumerate(decision_variables):\n",
    "        if rownum == i:\n",
    "            formula = talk\n",
    "            total_talks += formula\n",
    "            \n",
    "prob += (total_talks == total_talks_can_watch)"
   ]
  },
  {
   "cell_type": "markdown",
   "metadata": {},
   "source": [
    "<a id='run-lp-optimisation'></a>"
   ]
  },
  {
   "cell_type": "code",
   "execution_count": 12,
   "metadata": {},
   "outputs": [],
   "source": [
    "prob.writeLP(\"WatchingTEDTalks.lp\")"
   ]
  },
  {
   "cell_type": "code",
   "execution_count": 13,
   "metadata": {},
   "outputs": [],
   "source": [
    "optimisation_result = prob.solve()"
   ]
  },
  {
   "cell_type": "code",
   "execution_count": 14,
   "metadata": {},
   "outputs": [
    {
     "data": {
      "text/plain": [
       "'Optimal'"
      ]
     },
     "execution_count": 14,
     "metadata": {},
     "output_type": "execute_result"
    }
   ],
   "source": [
    "LpStatus[prob.status]"
   ]
  },
  {
   "cell_type": "code",
   "execution_count": 15,
   "metadata": {},
   "outputs": [
    {
     "data": {
      "text/plain": [
       "470591400.0"
      ]
     },
     "execution_count": 15,
     "metadata": {},
     "output_type": "execute_result"
    }
   ],
   "source": [
    "value(prob.objective)"
   ]
  },
  {
   "cell_type": "code",
   "execution_count": 16,
   "metadata": {},
   "outputs": [],
   "source": [
    "# Show value of all optimisation variables\n",
    "#for v in prob.variables():\n",
    "    #print(f\"{v.name} = {v.varValue}\")"
   ]
  },
  {
   "cell_type": "markdown",
   "metadata": {},
   "source": [
    "<a id='convert-optimisation'></a>"
   ]
  },
  {
   "cell_type": "code",
   "execution_count": 17,
   "metadata": {},
   "outputs": [
    {
     "data": {
      "text/html": [
       "<div>\n",
       "<style scoped>\n",
       "    .dataframe tbody tr th:only-of-type {\n",
       "        vertical-align: middle;\n",
       "    }\n",
       "\n",
       "    .dataframe tbody tr th {\n",
       "        vertical-align: top;\n",
       "    }\n",
       "\n",
       "    .dataframe thead th {\n",
       "        text-align: right;\n",
       "    }\n",
       "</style>\n",
       "<table border=\"1\" class=\"dataframe\">\n",
       "  <thead>\n",
       "    <tr style=\"text-align: right;\">\n",
       "      <th></th>\n",
       "      <th>name</th>\n",
       "      <th>event</th>\n",
       "      <th>duration</th>\n",
       "      <th>views</th>\n",
       "    </tr>\n",
       "  </thead>\n",
       "  <tbody>\n",
       "    <tr>\n",
       "      <th>0</th>\n",
       "      <td>Ken Robinson: Do schools kill creativity?</td>\n",
       "      <td>TED2006</td>\n",
       "      <td>19.4</td>\n",
       "      <td>47227110</td>\n",
       "    </tr>\n",
       "    <tr>\n",
       "      <th>1346</th>\n",
       "      <td>Amy Cuddy: Your body language may shape who yo...</td>\n",
       "      <td>TEDGlobal 2012</td>\n",
       "      <td>21.0</td>\n",
       "      <td>43155405</td>\n",
       "    </tr>\n",
       "    <tr>\n",
       "      <th>677</th>\n",
       "      <td>Simon Sinek: How great leaders inspire action</td>\n",
       "      <td>TEDxPuget Sound</td>\n",
       "      <td>18.1</td>\n",
       "      <td>34309432</td>\n",
       "    </tr>\n",
       "    <tr>\n",
       "      <th>837</th>\n",
       "      <td>BrenÃ© Brown: The power of vulnerability</td>\n",
       "      <td>TEDxHouston</td>\n",
       "      <td>20.3</td>\n",
       "      <td>31168150</td>\n",
       "    </tr>\n",
       "    <tr>\n",
       "      <th>452</th>\n",
       "      <td>Mary Roach: 10 things you didn't know about or...</td>\n",
       "      <td>TED2009</td>\n",
       "      <td>16.7</td>\n",
       "      <td>22270883</td>\n",
       "    </tr>\n",
       "  </tbody>\n",
       "</table>\n",
       "</div>"
      ],
      "text/plain": [
       "                                                   name             event  \\\n",
       "0             Ken Robinson: Do schools kill creativity?           TED2006   \n",
       "1346  Amy Cuddy: Your body language may shape who yo...    TEDGlobal 2012   \n",
       "677       Simon Sinek: How great leaders inspire action  TEDxPuget Sound    \n",
       "837            BrenÃ© Brown: The power of vulnerability       TEDxHouston   \n",
       "452   Mary Roach: 10 things you didn't know about or...           TED2009   \n",
       "\n",
       "      duration     views  \n",
       "0         19.4  47227110  \n",
       "1346      21.0  43155405  \n",
       "677       18.1  34309432  \n",
       "837       20.3  31168150  \n",
       "452       16.7  22270883  "
      ]
     },
     "execution_count": 17,
     "metadata": {},
     "output_type": "execute_result"
    }
   ],
   "source": [
    "# Convert the optimisation to interpretable decision making format\n",
    "\n",
    "variable_name = []\n",
    "variable_value = []\n",
    "\n",
    "for v in prob.variables():\n",
    "    variable_name.append(v.name)\n",
    "    variable_value.append(v.varValue)\n",
    "    \n",
    "\n",
    "df = pd.DataFrame({'index':variable_name, 'value':variable_value})\n",
    "for rownum, row in df.iterrows():\n",
    "    value = re.findall(r'(\\d+)', row['index'])\n",
    "    df.loc[rownum, 'index'] = int(value[0])\n",
    "    \n",
    "df = df.sort_values(by='index')\n",
    "result = pd.merge(data, df, on='index')\n",
    "result = result[result['value']==1].sort_values(by='views', ascending=False)\n",
    "\n",
    "final_set_of_talks_to_watch = result[['name','event','duration','views']]\n",
    "final_set_of_talks_to_watch.head()"
   ]
  },
  {
   "cell_type": "markdown",
   "metadata": {},
   "source": [
    "<a id='show-lp-result'></a>"
   ]
  },
  {
   "cell_type": "code",
   "execution_count": 18,
   "metadata": {},
   "outputs": [
    {
     "data": {
      "text/html": [
       "<table border=\"1\" class=\"dataframe\">\n",
       "  <thead>\n",
       "    <tr style=\"text-align: right;\">\n",
       "      <th>name</th>\n",
       "      <th>event</th>\n",
       "      <th>duration</th>\n",
       "      <th>views</th>\n",
       "    </tr>\n",
       "  </thead>\n",
       "  <tbody>\n",
       "    <tr>\n",
       "      <td>Ken Robinson: Do schools kill creativity?</td>\n",
       "      <td>TED2006</td>\n",
       "      <td>19.4</td>\n",
       "      <td>47227110</td>\n",
       "    </tr>\n",
       "    <tr>\n",
       "      <td>Amy Cuddy: Your body language may shape who yo...</td>\n",
       "      <td>TEDGlobal 2012</td>\n",
       "      <td>21.0</td>\n",
       "      <td>43155405</td>\n",
       "    </tr>\n",
       "    <tr>\n",
       "      <td>Simon Sinek: How great leaders inspire action</td>\n",
       "      <td>TEDxPuget Sound</td>\n",
       "      <td>18.1</td>\n",
       "      <td>34309432</td>\n",
       "    </tr>\n",
       "    <tr>\n",
       "      <td>BrenÃ© Brown: The power of vulnerability</td>\n",
       "      <td>TEDxHouston</td>\n",
       "      <td>20.3</td>\n",
       "      <td>31168150</td>\n",
       "    </tr>\n",
       "    <tr>\n",
       "      <td>Mary Roach: 10 things you didn't know about or...</td>\n",
       "      <td>TED2009</td>\n",
       "      <td>16.7</td>\n",
       "      <td>22270883</td>\n",
       "    </tr>\n",
       "    <tr>\n",
       "      <td>Julian Treasure: How to speak so that people w...</td>\n",
       "      <td>TEDGlobal 2013</td>\n",
       "      <td>10.0</td>\n",
       "      <td>21594632</td>\n",
       "    </tr>\n",
       "    <tr>\n",
       "      <td>Jill Bolte Taylor: My stroke of insight</td>\n",
       "      <td>TED2008</td>\n",
       "      <td>18.3</td>\n",
       "      <td>21190883</td>\n",
       "    </tr>\n",
       "    <tr>\n",
       "      <td>Tony Robbins: Why we do what we do</td>\n",
       "      <td>TED2006</td>\n",
       "      <td>21.8</td>\n",
       "      <td>20685401</td>\n",
       "    </tr>\n",
       "    <tr>\n",
       "      <td>James Veitch: This is what happens when you re...</td>\n",
       "      <td>TEDGlobal&gt;Geneva</td>\n",
       "      <td>9.8</td>\n",
       "      <td>20475972</td>\n",
       "    </tr>\n",
       "    <tr>\n",
       "      <td>Cameron Russell: Looks aren't everything. Beli...</td>\n",
       "      <td>TEDxMidAtlantic</td>\n",
       "      <td>9.6</td>\n",
       "      <td>19787465</td>\n",
       "    </tr>\n",
       "    <tr>\n",
       "      <td>Dan Pink: The puzzle of motivation</td>\n",
       "      <td>TEDGlobal 2009</td>\n",
       "      <td>18.6</td>\n",
       "      <td>18830983</td>\n",
       "    </tr>\n",
       "    <tr>\n",
       "      <td>Susan Cain: The power of introverts</td>\n",
       "      <td>TED2012</td>\n",
       "      <td>19.1</td>\n",
       "      <td>17629275</td>\n",
       "    </tr>\n",
       "    <tr>\n",
       "      <td>Pamela Meyer: How to spot a liar</td>\n",
       "      <td>TEDGlobal 2011</td>\n",
       "      <td>18.8</td>\n",
       "      <td>16861578</td>\n",
       "    </tr>\n",
       "    <tr>\n",
       "      <td>Robert Waldinger: What makes a good life? Less...</td>\n",
       "      <td>TEDxBeaconStreet</td>\n",
       "      <td>12.8</td>\n",
       "      <td>16601927</td>\n",
       "    </tr>\n",
       "    <tr>\n",
       "      <td>Shawn Achor: The happy secret to better work</td>\n",
       "      <td>TEDxBloomington</td>\n",
       "      <td>12.3</td>\n",
       "      <td>16209727</td>\n",
       "    </tr>\n",
       "    <tr>\n",
       "      <td>Pranav Mistry: The thrilling potential of Sixt...</td>\n",
       "      <td>TEDIndia 2009</td>\n",
       "      <td>13.8</td>\n",
       "      <td>16097077</td>\n",
       "    </tr>\n",
       "    <tr>\n",
       "      <td>David Blaine: How I held my breath for 17 minutes</td>\n",
       "      <td>TEDMED 2009</td>\n",
       "      <td>20.3</td>\n",
       "      <td>15601385</td>\n",
       "    </tr>\n",
       "    <tr>\n",
       "      <td>Tim Urban: Inside the mind of a master procras...</td>\n",
       "      <td>TED2016</td>\n",
       "      <td>14.0</td>\n",
       "      <td>14745406</td>\n",
       "    </tr>\n",
       "    <tr>\n",
       "      <td>Dan Gilbert: The surprising science of happiness</td>\n",
       "      <td>TED2004</td>\n",
       "      <td>21.3</td>\n",
       "      <td>14689301</td>\n",
       "    </tr>\n",
       "    <tr>\n",
       "      <td>Kelly McGonigal: How to make stress your friend</td>\n",
       "      <td>TEDGlobal 2013</td>\n",
       "      <td>14.5</td>\n",
       "      <td>14566463</td>\n",
       "    </tr>\n",
       "    <tr>\n",
       "      <td>Keith Barry: Brain magic</td>\n",
       "      <td>TED2004</td>\n",
       "      <td>19.8</td>\n",
       "      <td>13327101</td>\n",
       "    </tr>\n",
       "    <tr>\n",
       "      <td>Hans Rosling: The best stats you've ever seen</td>\n",
       "      <td>TED2006</td>\n",
       "      <td>19.8</td>\n",
       "      <td>12005869</td>\n",
       "    </tr>\n",
       "    <tr>\n",
       "      <td>Randy Pausch: Really achieving your childhood ...</td>\n",
       "      <td>Carnegie Mellon University</td>\n",
       "      <td>76.4</td>\n",
       "      <td>564781</td>\n",
       "    </tr>\n",
       "    <tr>\n",
       "      <td>Richard Feynman: Physics is fun to imagine</td>\n",
       "      <td>BBC TV</td>\n",
       "      <td>65.9</td>\n",
       "      <td>521974</td>\n",
       "    </tr>\n",
       "    <tr>\n",
       "      <td>Douglas Adams: Parrots, the universe and every...</td>\n",
       "      <td>University of California</td>\n",
       "      <td>87.6</td>\n",
       "      <td>473220</td>\n",
       "    </tr>\n",
       "  </tbody>\n",
       "</table>"
      ],
      "text/plain": [
       "<IPython.core.display.HTML object>"
      ]
     },
     "metadata": {},
     "output_type": "display_data"
    }
   ],
   "source": [
    "display(HTML(final_set_of_talks_to_watch.to_html(index=False)))"
   ]
  },
  {
   "cell_type": "code",
   "execution_count": null,
   "metadata": {},
   "outputs": [],
   "source": []
  }
 ],
 "metadata": {
  "kernelspec": {
   "display_name": "Python 3",
   "language": "python",
   "name": "python3"
  },
  "language_info": {
   "codemirror_mode": {
    "name": "ipython",
    "version": 3
   },
   "file_extension": ".py",
   "mimetype": "text/x-python",
   "name": "python",
   "nbconvert_exporter": "python",
   "pygments_lexer": "ipython3",
   "version": "3.6.7"
  }
 },
 "nbformat": 4,
 "nbformat_minor": 2
}
