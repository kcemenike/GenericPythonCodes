{
 "cells": [
  {
   "cell_type": "markdown",
   "metadata": {},
   "source": [
    "# Another linear programming problem for even more beginner beginners"
   ]
  },
  {
   "cell_type": "markdown",
   "metadata": {},
   "source": [
    "Let's find the maximum of the problem\n",
    "<br>Z = 4x + 3y\n",
    "<br>subject to the constraints...\n",
    "<br>x>=0\n",
    "<br>y>=2\n",
    "<br>2y<=25-x\n",
    "<br>4y>=2x-8\n",
    "<br>y<=2x-5\n",
    "\n",
    "### Solving using graphical method"
   ]
  },
  {
   "cell_type": "code",
   "execution_count": 1,
   "metadata": {},
   "outputs": [],
   "source": [
    "import numpy as np\n",
    "import matplotlib.pyplot as plt\n",
    "%matplotlib inline"
   ]
  },
  {
   "cell_type": "code",
   "execution_count": 2,
   "metadata": {},
   "outputs": [],
   "source": [
    "# Construct lines\n",
    "# x > 0\n",
    "x = np.linspace(0,20,2000) # plots 2000 points between 0 and 20\n",
    "\n",
    "# y > 2\n",
    "y1 = (x*0) + 2\n",
    "\n",
    "# 2y <= 25-x\n",
    "y2 = -x/2.0 + 25/2.0\n",
    "\n",
    "# 4y >= 2x-8\n",
    "y3 = x/2.0 - 4.0\n",
    "\n",
    "# y <= 2x-5\n",
    "y4 = 2*x - 5"
   ]
  },
  {
   "cell_type": "code",
   "execution_count": 3,
   "metadata": {},
   "outputs": [
    {
     "data": {
      "image/png": "[encoded data removed]",
      "text/plain": [
       "<Figure size 432x288 with 1 Axes>"
      ]
     },
     "metadata": {
      "needs_background": "light"
     },
     "output_type": "display_data"
    }
   ],
   "source": [
    "# Plot various lines\n",
    "plt.plot(x, y1, label='y > 2')\n",
    "plt.plot(x, y2, label='2y <= 25-x')\n",
    "plt.plot(x, y3, label='4y >= 2x-8')\n",
    "plt.plot(x, y4, label='y <= 2x-5')\n",
    "\n",
    "# Set min/max points on axes\n",
    "plt.xlim((0,20))\n",
    "plt.ylim((0,15))\n",
    "\n",
    "# X and y labels\n",
    "plt.xlabel('x')\n",
    "plt.ylabel('y')\n",
    "plt.legend()\n",
    "\n",
    "# Fill region\n",
    "plt.fill_between(x, np.minimum(y2,y4), np.maximum(y1,y3), where=np.minimum(y2,y4)>np.maximum(y1,y3))\n",
    "\n",
    "plt.show()"
   ]
  },
  {
   "cell_type": "markdown",
   "metadata": {},
   "source": [
    "From here we can calculate the minimum and maximum values for x and y then use these to calculate the maximum value of Z (73.75 where x=14.5 and y=5.25)\n",
    "<br>\n",
    "However, this method becomes inefficient when the optimisation function becomes more complex"
   ]
  },
  {
   "cell_type": "markdown",
   "metadata": {},
   "source": [
    "# PuLP (Python Linear Programming)\n",
    "Let's solve the same problem with PuLP\n",
    "<br>Maximize\n",
    "<br>Z = 4x + 3y\n",
    "<br>subject to the constraints...\n",
    "<br>x>=0\n",
    "<br>y>=2\n",
    "<br>2y<=25-x\n",
    "<br>4y>=2x-8\n",
    "<br>y<=2x-5\n"
   ]
  },
  {
   "cell_type": "code",
   "execution_count": 4,
   "metadata": {},
   "outputs": [],
   "source": [
    "import pulp"
   ]
  },
  {
   "cell_type": "code",
   "execution_count": 5,
   "metadata": {},
   "outputs": [],
   "source": [
    "lp = pulp.LpProblem('Maximisation',pulp.LpMaximize)\n"
   ]
  },
  {
   "cell_type": "code",
   "execution_count": 6,
   "metadata": {},
   "outputs": [],
   "source": [
    "# Crete the boundaries,  x>=0, y>=2\n",
    "x = pulp.LpVariable('x', lowBound=0, cat='Continuous')\n",
    "y = pulp.LpVariable('y', lowBound=2, cat='Continuous')\n"
   ]
  },
  {
   "cell_type": "code",
   "execution_count": 7,
   "metadata": {},
   "outputs": [],
   "source": [
    "# Define the objective function X = 4x + 3y\n",
    "lp += 4.0*x + 3.0*y\n",
    "\n",
    "# Define the constraints\n",
    "# 2y<=25-x \n",
    "lp += 2.0*y<=25 - x\n",
    "# 4y>=2x-8\n",
    "lp += 4.0*y>=2.0*x - 8\n",
    "# y<=2x-5\n",
    "lp += y<=2.0*x - 5\n"
   ]
  },
  {
   "cell_type": "code",
   "execution_count": 8,
   "metadata": {},
   "outputs": [
    {
     "data": {
      "text/plain": [
       "Maximisation:\n",
       "MAXIMIZE\n",
       "4.0*x + 3.0*y + 0.0\n",
       "SUBJECT TO\n",
       "_C1: x + 2 y <= 25\n",
       "\n",
       "_C2: - 2 x + 4 y >= -8\n",
       "\n",
       "_C3: - 2 x + y <= -5\n",
       "\n",
       "VARIABLES\n",
       "x Continuous\n",
       "2 <= y Continuous"
      ]
     },
     "execution_count": 8,
     "metadata": {},
     "output_type": "execute_result"
    }
   ],
   "source": [
    "lp"
   ]
  },
  {
   "cell_type": "code",
   "execution_count": 9,
   "metadata": {},
   "outputs": [
    {
     "data": {
      "text/plain": [
       "'Optimal'"
      ]
     },
     "execution_count": 9,
     "metadata": {},
     "output_type": "execute_result"
    }
   ],
   "source": [
    "lp.solve()\n",
    "pulp.LpStatus[lp.status]"
   ]
  },
  {
   "cell_type": "code",
   "execution_count": 10,
   "metadata": {},
   "outputs": [
    {
     "name": "stdout",
     "output_type": "stream",
     "text": [
      "The optimum variables are\n",
      "x = 14.5\n",
      "y = 5.25\n",
      "The optimal value is 73.75\n"
     ]
    }
   ],
   "source": [
    "print(f\"The optimum variables are\")\n",
    "for variable in lp.variables():\n",
    "    print(f\"{variable.name} = {variable.varValue}\")\n",
    "    \n",
    "print(f\"The optimal value is {pulp.value(lp.objective)}\")"
   ]
  },
  {
   "cell_type": "markdown",
   "metadata": {},
   "source": [
    "# Real world LP problems \n",
    "## 1. Resource Control\n",
    "We’re consulting for a boutique car manufacturer, producing luxury cars.\n",
    "<br>\n",
    "They run on one month (30 days) cycles, we have one cycle to show we can provide value.\n",
    "<br>\n",
    "There is one robot, 2 engineers and one detailer in the factory. The detailer has some holiday off, so only has 21 days available.\n",
    "<br>\n",
    "The 2 cars need different time with each resource:\n",
    "<br>\n",
    "Robot time: Car A – 3 days; Car B – 4 days.\n",
    "<br>\n",
    "Engineer time: Car A – 5 days; Car B – 6 days.\n",
    "<br>\n",
    "Detailer time: Car A – 1.5 days; Car B – 3 days.\n",
    "<br>\n",
    "Car A provides €30,000 profit, whilst Car B offers €45,000 profit.\n",
    "<br>\n",
    "At the moment, they produce 4 of each cars per month, for €300,000 profit. Not bad at all, but we think we can do better for them."
   ]
  },
  {
   "cell_type": "markdown",
   "metadata": {},
   "source": [
    "### Representing the model\n",
    "Maximise\n",
    "<br>Profit = 30000A + 45000B\n",
    "<br>subject to\n",
    "<br>a$\\geq$0\n",
    "<br>b$\\geq$0\n",
    "<br>3a+4b$\\leq$30\n",
    "<br>5a+6b$\\leq$60\n",
    "<br>1.5a+3b$\\leq$21"
   ]
  },
  {
   "cell_type": "code",
   "execution_count": 11,
   "metadata": {},
   "outputs": [],
   "source": [
    "import pulp\n",
    "car_model = pulp.LpProblem('Car profit maximisation', pulp.LpMaximize)"
   ]
  },
  {
   "cell_type": "code",
   "execution_count": 12,
   "metadata": {},
   "outputs": [],
   "source": [
    "# Define variables (since we can't sell half a car, the variables are discrete - integer)\n",
    "a = pulp.LpVariable('a', lowBound=0, cat='Integer')\n",
    "b = pulp.LpVariable('b', lowBound=0, cat='Integer')\n",
    "\n",
    "# Define the objective function\n",
    "car_model += 30000.0*a + 45000.0*b, 'Profit'\n",
    "\n",
    "# Constraints\n",
    "car_model += 3.0*a + 4.0*b <= 30\n",
    "car_model += 5.0*a + 6.0*b <= 60\n",
    "car_model += 1.5*a + 3.0*b <= 21"
   ]
  },
  {
   "cell_type": "code",
   "execution_count": 13,
   "metadata": {},
   "outputs": [
    {
     "data": {
      "text/plain": [
       "'Optimal'"
      ]
     },
     "execution_count": 13,
     "metadata": {},
     "output_type": "execute_result"
    }
   ],
   "source": [
    "# Optimise\n",
    "car_model.solve()\n",
    "pulp.LpStatus[car_model.status]"
   ]
  },
  {
   "cell_type": "code",
   "execution_count": 14,
   "metadata": {},
   "outputs": [
    {
     "name": "stdout",
     "output_type": "stream",
     "text": [
      "Let us produce 2.0 cars of type A and 6.0 of type B\n",
      "We should get a profit of 330000.0\n"
     ]
    }
   ],
   "source": [
    "print(f\"Let us produce {a.varValue} cars of type A and {b.varValue} of type B\\nWe should get a profit of {pulp.value(car_model.objective)}\")"
   ]
  },
  {
   "cell_type": "markdown",
   "metadata": {},
   "source": [
    "## 2. Blending"
   ]
  },
  {
   "cell_type": "markdown",
   "metadata": {},
   "source": [
    "We have a sausage factory with the following ingredients\n",
    "<br>Pork costs 4.32 per kg. We have 30kg\n",
    "<br>Wheat costs 2.46 per kg. We have 20kg\n",
    "<br>Starch costs 1.86 per kg. We have 17kg\n",
    "<br>\n",
    "We intend to make two types of sausage\n",
    "<br>Economy - greater than or equal to 40% pork\n",
    "<br>Premium - greater than or equal to 60% pork\n",
    "<br>\n",
    "One sausage is 50g\n",
    "<br>According to government regulations, the most starch we can use in our sausage is 25%\n",
    "<br>We have already purchased a 23kg pork that we must use\n",
    "<br>There is a demand for 350 economy and 500 premium sausages\n",
    "\n",
    "<p>\n",
    "    pork, p\n",
    "    wheat, w\n",
    "    starch, s"
   ]
  },
  {
   "cell_type": "markdown",
   "metadata": {},
   "source": [
    "\\# Objective function\n",
    "<br>sausage_model = 4.32*(pe+pp) + 2.46*(we+wp) + 1.86*(se+sp)\n",
    "\n",
    "<br>\\# Constraints\n",
    "<br>\\# Ingredients\n",
    "<br>pe + pp <= 30\n",
    "<br>we + wp  <= 20\n",
    "<br>se + sp <= 17\n",
    "<br>\\# Pork distribution - economy vs premium\n",
    "<br>pe >= 0.4*(pe+we+se) # pe+we+se is the total economy sausage\n",
    "<br>pp >= 0.6*(pp+wp+sp)\n",
    "<br>\\# Government regulations\n",
    "<br>se <= 0.25*(pe+we+se)\n",
    "<br>sp <= 0.25*(pp+wp+sp)\n",
    "<br>\\# Already available\n",
    "<br>pe+pp >=23\n",
    "<br>\\# Market demand (since one sausage is 5g)\n",
    "<br>pe+we+se == 350*0.05\n",
    "<br>pp+wp+sp == 500*0.05"
   ]
  },
  {
   "cell_type": "code",
   "execution_count": 15,
   "metadata": {},
   "outputs": [],
   "source": [
    "import pulp"
   ]
  },
  {
   "cell_type": "code",
   "execution_count": 16,
   "metadata": {},
   "outputs": [],
   "source": [
    "sausage_model = pulp.LpProblem('Sausage blending', pulp.LpMinimize)"
   ]
  },
  {
   "cell_type": "code",
   "execution_count": 17,
   "metadata": {},
   "outputs": [],
   "source": [
    "# Optimisation variables\n",
    "pe = pulp.LpVariable('Pork Economy', lowBound=0, cat='Continuous')\n",
    "pp = pulp.LpVariable('Pork Premium', lowBound=0, cat='Continuous')\n",
    "we = pulp.LpVariable('Wheat Economy', lowBound=0, cat='Continuous')\n",
    "wp = pulp.LpVariable('Wheat Premium', lowBound=0, cat='Continuous')\n",
    "se = pulp.LpVariable('Starch Economy', lowBound=0, cat='Continuous')\n",
    "sp = pulp.LpVariable('Starch Premium', lowBound=0, cat='Continuous')\n",
    "\n",
    "# Objective Function\n",
    "sausage_model += 4.32*(pe+pp) + 2.46*(we+wp) + 1.86*(se+sp)\n",
    "\n",
    "# Constraints...\n",
    "\n",
    "# Ingredients\n",
    "sausage_model += pe + pp <= 30\n",
    "sausage_model += we + wp  <= 20\n",
    "sausage_model += se + sp <= 17\n",
    "\n",
    "# Pork distribution\n",
    "sausage_model += pe >= 0.4*(pe+we+se)\n",
    "sausage_model += pp >= 0.6*(pp+wp+sp)\n",
    "\n",
    "# Government Regulation\n",
    "sausage_model += se <= 0.25*(pe+we+se)\n",
    "sausage_model += sp <= 0.25*(pp+wp+sp)\n",
    "\n",
    "# Already Available\n",
    "sausage_model += pe+pp >= 23\n",
    "\n",
    "# Market demand\n",
    "sausage_model += pe+we+se == 350*0.05\n",
    "sausage_model += pp+wp+sp == 500*0.05"
   ]
  },
  {
   "cell_type": "code",
   "execution_count": 18,
   "metadata": {},
   "outputs": [
    {
     "data": {
      "text/plain": [
       "Sausage blending:\n",
       "MINIMIZE\n",
       "4.32*Pork_Economy + 4.32*Pork_Premium + 1.86*Starch_Economy + 1.86*Starch_Premium + 2.46*Wheat_Economy + 2.46*Wheat_Premium + 0.0\n",
       "SUBJECT TO\n",
       "_C1: Pork_Economy + Pork_Premium <= 30\n",
       "\n",
       "_C2: Wheat_Economy + Wheat_Premium <= 20\n",
       "\n",
       "_C3: Starch_Economy + Starch_Premium <= 17\n",
       "\n",
       "_C4: 0.6 Pork_Economy - 0.4 Starch_Economy - 0.4 Wheat_Economy >= 0\n",
       "\n",
       "_C5: 0.4 Pork_Premium - 0.6 Starch_Premium - 0.6 Wheat_Premium >= 0\n",
       "\n",
       "_C6: - 0.25 Pork_Economy + 0.75 Starch_Economy - 0.25 Wheat_Economy <= 0\n",
       "\n",
       "_C7: - 0.25 Pork_Premium + 0.75 Starch_Premium - 0.25 Wheat_Premium <= 0\n",
       "\n",
       "_C8: Pork_Economy + Pork_Premium >= 23\n",
       "\n",
       "_C9: Pork_Economy + Starch_Economy + Wheat_Economy = 17.5\n",
       "\n",
       "_C10: Pork_Premium + Starch_Premium + Wheat_Premium = 25\n",
       "\n",
       "VARIABLES\n",
       "Pork_Economy Continuous\n",
       "Pork_Premium Continuous\n",
       "Starch_Economy Continuous\n",
       "Starch_Premium Continuous\n",
       "Wheat_Economy Continuous\n",
       "Wheat_Premium Continuous"
      ]
     },
     "execution_count": 18,
     "metadata": {},
     "output_type": "execute_result"
    }
   ],
   "source": [
    "sausage_model"
   ]
  },
  {
   "cell_type": "code",
   "execution_count": 19,
   "metadata": {},
   "outputs": [
    {
     "data": {
      "text/plain": [
       "'Optimal'"
      ]
     },
     "execution_count": 19,
     "metadata": {},
     "output_type": "execute_result"
    }
   ],
   "source": [
    "# Optimise\n",
    "sausage_model.solve()\n",
    "pulp.LpStatus[sausage_model.status]"
   ]
  },
  {
   "cell_type": "code",
   "execution_count": 20,
   "metadata": {},
   "outputs": [
    {
     "name": "stdout",
     "output_type": "stream",
     "text": [
      "\n"
     ]
    },
    {
     "data": {
      "text/plain": [
       "140.955"
      ]
     },
     "execution_count": 20,
     "metadata": {},
     "output_type": "execute_result"
    }
   ],
   "source": [
    "# Print optimal values\n",
    "\n",
    "print()\n",
    "\n",
    "pulp.value(sausage_model.objective)"
   ]
  },
  {
   "cell_type": "code",
   "execution_count": 21,
   "metadata": {},
   "outputs": [
    {
     "name": "stdout",
     "output_type": "stream",
     "text": [
      "The weight of Pork_Economy is 7.0kg\n",
      "The weight of Pork_Premium is 16.0kg\n",
      "The weight of Starch_Economy is 4.375kg\n",
      "The weight of Starch_Premium is 6.25kg\n",
      "The weight of Wheat_Economy is 6.125kg\n",
      "The weight of Wheat_Premium is 2.75kg\n"
     ]
    }
   ],
   "source": [
    "print(f\"The weight of {pe.name} is {pe.varValue}kg\")\n",
    "print(f\"The weight of {pp.name} is {pp.varValue}kg\")\n",
    "print(f\"The weight of {se.name} is {se.varValue}kg\")\n",
    "print(f\"The weight of {sp.name} is {sp.varValue}kg\")\n",
    "print(f\"The weight of {we.name} is {we.varValue}kg\")\n",
    "print(f\"The weight of {wp.name} is {wp.varValue}kg\")\n"
   ]
  },
  {
   "cell_type": "code",
   "execution_count": 22,
   "metadata": {},
   "outputs": [
    {
     "name": "stdout",
     "output_type": "stream",
     "text": [
      "The total cost for 350 economy sausages and 500 premium sausages is $140.955\n"
     ]
    }
   ],
   "source": [
    "print(f\"The total cost for 350 economy sausages and 500 premium sausages is ${pulp.value(sausage_model.objective)}\")"
   ]
  },
  {
   "cell_type": "markdown",
   "metadata": {},
   "source": [
    "## Works, but is slow\n",
    "Now that took a while to calculate. But we can use faster and more efficient pulp tools to do this.\n",
    "<br> let's us pulp's dict and lpSum methods to speed this up\n",
    "\n",
    "### Looking again at the function and constraints, we have:\n",
    "\\# Objective function\n",
    "<br>sausage_model = 4.32*(pe+pp) + 2.46*(we+wp) + 1.86*(se+sp)\n",
    "\n",
    "<br>\\# Constraints\n",
    "<br>\\# Ingredients\n",
    "<br>pe + pp <= 30\n",
    "<br>we + wp  <= 20\n",
    "<br>se + sp <= 17\n",
    "<br>\\# Pork distribution - economy vs premium\n",
    "<br>pe >= 0.4*(pe+we+se) # pe+we+se is the total economy sausage\n",
    "<br>pp >= 0.6*(pp+wp+sp)\n",
    "<br>\\# Government regulations\n",
    "<br>se <= 0.25*(pe+we+se)\n",
    "<br>sp <= 0.25*(pp+wp+sp)\n",
    "<br>\\# Already available\n",
    "<br>pe+pp >=23\n",
    "<br>\\# Market demand (since one sausage is 5g)\n",
    "<br>pe+we+se == 350*0.05\n",
    "<br>pp+wp+sp == 500*0.05"
   ]
  },
  {
   "cell_type": "code",
   "execution_count": 23,
   "metadata": {},
   "outputs": [],
   "source": [
    "# Instantiate our problem class\n",
    "model_sausage = pulp.LpProblem(\"Cost minimising blending problem\", pulp.LpMinimize)"
   ]
  },
  {
   "cell_type": "code",
   "execution_count": 24,
   "metadata": {},
   "outputs": [],
   "source": [
    "# Construct our decision variable lists\n",
    "sausage_types = ['economy', 'premium']\n",
    "ingredients = ['pork', 'wheat', 'starch']"
   ]
  },
  {
   "cell_type": "code",
   "execution_count": 25,
   "metadata": {},
   "outputs": [
    {
     "data": {
      "text/plain": [
       "[('economy', 'pork'),\n",
       " ('economy', 'wheat'),\n",
       " ('economy', 'starch'),\n",
       " ('premium', 'pork'),\n",
       " ('premium', 'wheat'),\n",
       " ('premium', 'starch')]"
      ]
     },
     "execution_count": 25,
     "metadata": {},
     "output_type": "execute_result"
    }
   ],
   "source": [
    "list((i, j) for i in sausage_types for j in ingredients)"
   ]
  },
  {
   "cell_type": "code",
   "execution_count": 26,
   "metadata": {},
   "outputs": [],
   "source": [
    "ing_weight = pulp.LpVariable.dicts(\"weight kg\",\n",
    "                                     ((i, j) for i in sausage_types for j in ingredients),\n",
    "                                     lowBound=0, cat='Continuous')"
   ]
  },
  {
   "cell_type": "code",
   "execution_count": 27,
   "metadata": {},
   "outputs": [
    {
     "data": {
      "text/plain": [
       "{('economy', 'pork'): weight_kg_('economy',_'pork'),\n",
       " ('economy', 'wheat'): weight_kg_('economy',_'wheat'),\n",
       " ('economy', 'starch'): weight_kg_('economy',_'starch'),\n",
       " ('premium', 'pork'): weight_kg_('premium',_'pork'),\n",
       " ('premium', 'wheat'): weight_kg_('premium',_'wheat'),\n",
       " ('premium', 'starch'): weight_kg_('premium',_'starch')}"
      ]
     },
     "execution_count": 27,
     "metadata": {},
     "output_type": "execute_result"
    }
   ],
   "source": [
    "ing_weight"
   ]
  },
  {
   "cell_type": "code",
   "execution_count": 28,
   "metadata": {},
   "outputs": [],
   "source": [
    "# Objective Function\n",
    "model_sausage += (\n",
    "    pulp.lpSum([\n",
    "        4.32 * ing_weight[(i, 'pork')]\n",
    "        + 2.46 * ing_weight[(i, 'wheat')]\n",
    "        + 1.86 * ing_weight[(i, 'starch')]\n",
    "        for i in sausage_types])\n",
    ")"
   ]
  },
  {
   "cell_type": "code",
   "execution_count": 29,
   "metadata": {},
   "outputs": [],
   "source": [
    "# Constraints\n",
    "# 350 economy and 500 premium sausages at 0.05 kg\n",
    "model_sausage += pulp.lpSum([ing_weight['economy', j] for j in ingredients]) == 350 * 0.05\n",
    "model_sausage += pulp.lpSum([ing_weight['premium', j] for j in ingredients]) == 500 * 0.05\n",
    "\n",
    "# Economy has >= 40% pork, premium >= 60% pork\n",
    "model_sausage += ing_weight['economy', 'pork'] >= (0.4 * pulp.lpSum([ing_weight['economy', j] for j in ingredients]))\n",
    "\n",
    "model_sausage += ing_weight['premium', 'pork'] >= (0.6 * pulp.lpSum([ing_weight['premium', j] for j in ingredients]))\n",
    "\n",
    "# Sausages must be <= 25% starch\n",
    "model_sausage += ing_weight['economy', 'starch'] <= (0.25 * pulp.lpSum([ing_weight['economy', j] for j in ingredients]))\n",
    "\n",
    "model_sausage += ing_weight['premium', 'starch'] <= (0.25 * pulp.lpSum([ing_weight['premium', j] for j in ingredients]))\n",
    "\n",
    "# We have at most 30 kg of pork, 20 kg of wheat and 17 kg of starch available\n",
    "model_sausage += pulp.lpSum([ing_weight[i, 'pork'] for i in sausage_types]) <= 30\n",
    "model_sausage += pulp.lpSum([ing_weight[i, 'wheat'] for i in sausage_types]) <= 20\n",
    "model_sausage += pulp.lpSum([ing_weight[i, 'starch'] for i in sausage_types]) <= 17\n",
    "\n",
    "# We have at least 23 kg of pork to use up\n",
    "model_sausage += pulp.lpSum([ing_weight[i, 'pork'] for i in sausage_types]) >= 23"
   ]
  },
  {
   "cell_type": "code",
   "execution_count": 30,
   "metadata": {},
   "outputs": [
    {
     "data": {
      "text/plain": [
       "'Optimal'"
      ]
     },
     "execution_count": 30,
     "metadata": {},
     "output_type": "execute_result"
    }
   ],
   "source": [
    "# Solve our problem\n",
    "model_sausage.solve()\n",
    "pulp.LpStatus[model_sausage.status]"
   ]
  },
  {
   "cell_type": "code",
   "execution_count": 31,
   "metadata": {},
   "outputs": [
    {
     "name": "stdout",
     "output_type": "stream",
     "text": [
      "The weight of pork in economy sausages is 7.0 kg\n",
      "The weight of wheat in economy sausages is 6.125 kg\n",
      "The weight of starch in economy sausages is 4.375 kg\n",
      "The weight of pork in premium sausages is 16.0 kg\n",
      "The weight of wheat in premium sausages is 2.75 kg\n",
      "The weight of starch in premium sausages is 6.25 kg\n"
     ]
    }
   ],
   "source": [
    "for var in ing_weight:\n",
    "    var_value = ing_weight[var].varValue\n",
    "    print (\"The weight of {0} in {1} sausages is {2} kg\".format(var[1], var[0], var_value))"
   ]
  },
  {
   "cell_type": "code",
   "execution_count": 32,
   "metadata": {},
   "outputs": [
    {
     "name": "stdout",
     "output_type": "stream",
     "text": [
      "The total cost is $140.96 for 350 economy sausages and 500 premium sausages\n"
     ]
    }
   ],
   "source": [
    "total_cost = pulp.value(model_sausage.objective)\n",
    "\n",
    "print (\"The total cost is ${} for 350 economy sausages and 500 premium sausages\".format(round(total_cost, 2)))"
   ]
  },
  {
   "cell_type": "markdown",
   "metadata": {},
   "source": [
    "## 3. Scheduling problem\n",
    "Let's model factory production. Two power plants, A and B, each can produce between a minimum and maximum capacity, and have monthly fixed and variable costs based on a 'factory_capacity' table. There is also a monthly power demand per month that need to be met by production. Also needed to be considered is the state of each plant (either running, or not running i.e. 1 or 0 - binary)"
   ]
  },
  {
   "cell_type": "code",
   "execution_count": 33,
   "metadata": {},
   "outputs": [],
   "source": [
    "import pulp, pandas as pd"
   ]
  },
  {
   "cell_type": "code",
   "execution_count": 35,
   "metadata": {},
   "outputs": [
    {
     "data": {
      "text/html": [
       "<div>\n",
       "<style scoped>\n",
       "    .dataframe tbody tr th:only-of-type {\n",
       "        vertical-align: middle;\n",
       "    }\n",
       "\n",
       "    .dataframe tbody tr th {\n",
       "        vertical-align: top;\n",
       "    }\n",
       "\n",
       "    .dataframe thead th {\n",
       "        text-align: right;\n",
       "    }\n",
       "</style>\n",
       "<table border=\"1\" class=\"dataframe\">\n",
       "  <thead>\n",
       "    <tr style=\"text-align: right;\">\n",
       "      <th></th>\n",
       "      <th></th>\n",
       "      <th>Max_Capacity</th>\n",
       "      <th>Min_Capacity</th>\n",
       "      <th>Variable_Costs</th>\n",
       "      <th>Fixed_Costs</th>\n",
       "    </tr>\n",
       "    <tr>\n",
       "      <th>Month</th>\n",
       "      <th>Factory</th>\n",
       "      <th></th>\n",
       "      <th></th>\n",
       "      <th></th>\n",
       "      <th></th>\n",
       "    </tr>\n",
       "  </thead>\n",
       "  <tbody>\n",
       "    <tr>\n",
       "      <th rowspan=\"2\" valign=\"top\">1</th>\n",
       "      <th>A</th>\n",
       "      <td>100000</td>\n",
       "      <td>20000</td>\n",
       "      <td>10</td>\n",
       "      <td>500</td>\n",
       "    </tr>\n",
       "    <tr>\n",
       "      <th>B</th>\n",
       "      <td>50000</td>\n",
       "      <td>20000</td>\n",
       "      <td>5</td>\n",
       "      <td>600</td>\n",
       "    </tr>\n",
       "    <tr>\n",
       "      <th rowspan=\"2\" valign=\"top\">2</th>\n",
       "      <th>A</th>\n",
       "      <td>110000</td>\n",
       "      <td>20000</td>\n",
       "      <td>11</td>\n",
       "      <td>500</td>\n",
       "    </tr>\n",
       "    <tr>\n",
       "      <th>B</th>\n",
       "      <td>55000</td>\n",
       "      <td>20000</td>\n",
       "      <td>4</td>\n",
       "      <td>600</td>\n",
       "    </tr>\n",
       "    <tr>\n",
       "      <th>3</th>\n",
       "      <th>A</th>\n",
       "      <td>120000</td>\n",
       "      <td>20000</td>\n",
       "      <td>12</td>\n",
       "      <td>500</td>\n",
       "    </tr>\n",
       "  </tbody>\n",
       "</table>\n",
       "</div>"
      ],
      "text/plain": [
       "               Max_Capacity  Min_Capacity  Variable_Costs  Fixed_Costs\n",
       "Month Factory                                                         \n",
       "1     A              100000         20000              10          500\n",
       "      B               50000         20000               5          600\n",
       "2     A              110000         20000              11          500\n",
       "      B               55000         20000               4          600\n",
       "3     A              120000         20000              12          500"
      ]
     },
     "execution_count": 35,
     "metadata": {},
     "output_type": "execute_result"
    }
   ],
   "source": [
    "# Get factory data\n",
    "factories = pd.read_excel('data/factory_capacity.xlsx')\n",
    "factories.set_index(['Month', 'Factory'], inplace=True)\n",
    "factories.head()"
   ]
  },
  {
   "cell_type": "code",
   "execution_count": 36,
   "metadata": {},
   "outputs": [
    {
     "data": {
      "text/html": [
       "<div>\n",
       "<style scoped>\n",
       "    .dataframe tbody tr th:only-of-type {\n",
       "        vertical-align: middle;\n",
       "    }\n",
       "\n",
       "    .dataframe tbody tr th {\n",
       "        vertical-align: top;\n",
       "    }\n",
       "\n",
       "    .dataframe thead th {\n",
       "        text-align: right;\n",
       "    }\n",
       "</style>\n",
       "<table border=\"1\" class=\"dataframe\">\n",
       "  <thead>\n",
       "    <tr style=\"text-align: right;\">\n",
       "      <th></th>\n",
       "      <th>Demand</th>\n",
       "    </tr>\n",
       "    <tr>\n",
       "      <th>Month</th>\n",
       "      <th></th>\n",
       "    </tr>\n",
       "  </thead>\n",
       "  <tbody>\n",
       "    <tr>\n",
       "      <th>1</th>\n",
       "      <td>120000</td>\n",
       "    </tr>\n",
       "    <tr>\n",
       "      <th>2</th>\n",
       "      <td>100000</td>\n",
       "    </tr>\n",
       "    <tr>\n",
       "      <th>3</th>\n",
       "      <td>130000</td>\n",
       "    </tr>\n",
       "    <tr>\n",
       "      <th>4</th>\n",
       "      <td>130000</td>\n",
       "    </tr>\n",
       "    <tr>\n",
       "      <th>5</th>\n",
       "      <td>140000</td>\n",
       "    </tr>\n",
       "  </tbody>\n",
       "</table>\n",
       "</div>"
      ],
      "text/plain": [
       "       Demand\n",
       "Month        \n",
       "1      120000\n",
       "2      100000\n",
       "3      130000\n",
       "4      130000\n",
       "5      140000"
      ]
     },
     "execution_count": 36,
     "metadata": {},
     "output_type": "execute_result"
    }
   ],
   "source": [
    "# Get customer demand data\n",
    "demand = pd.read_excel('data/factory_demand.xlsx')\n",
    "demand.set_index('Month', inplace=True)\n",
    "demand.head()"
   ]
  },
  {
   "cell_type": "code",
   "execution_count": 41,
   "metadata": {},
   "outputs": [
    {
     "data": {
      "text/plain": [
       "[(1, 'A'),\n",
       " (1, 'B'),\n",
       " (2, 'A'),\n",
       " (2, 'B'),\n",
       " (3, 'A'),\n",
       " (3, 'B'),\n",
       " (4, 'A'),\n",
       " (4, 'B'),\n",
       " (5, 'A'),\n",
       " (5, 'B'),\n",
       " (6, 'A'),\n",
       " (6, 'B'),\n",
       " (7, 'A'),\n",
       " (7, 'B'),\n",
       " (8, 'A'),\n",
       " (8, 'B'),\n",
       " (9, 'A'),\n",
       " (9, 'B'),\n",
       " (10, 'A'),\n",
       " (10, 'B'),\n",
       " (11, 'A'),\n",
       " (11, 'B'),\n",
       " (12, 'A'),\n",
       " (12, 'B')]"
      ]
     },
     "execution_count": 41,
     "metadata": {},
     "output_type": "execute_result"
    }
   ],
   "source": [
    "# Let us use a list comprehension to prepare a dictionary\n",
    "# that will be used as the LP variable\n",
    "[(month, factory) for month, factory in factories.index]\n",
    "# We should use the tuple generator () instead of []\n",
    "# But we are using this for visibility"
   ]
  },
  {
   "cell_type": "code",
   "execution_count": 42,
   "metadata": {},
   "outputs": [
    {
     "data": {
      "text/plain": [
       "{(1, 'A'): production_(1,_'A'),\n",
       " (1, 'B'): production_(1,_'B'),\n",
       " (2, 'A'): production_(2,_'A'),\n",
       " (2, 'B'): production_(2,_'B'),\n",
       " (3, 'A'): production_(3,_'A'),\n",
       " (3, 'B'): production_(3,_'B'),\n",
       " (4, 'A'): production_(4,_'A'),\n",
       " (4, 'B'): production_(4,_'B'),\n",
       " (5, 'A'): production_(5,_'A'),\n",
       " (5, 'B'): production_(5,_'B'),\n",
       " (6, 'A'): production_(6,_'A'),\n",
       " (6, 'B'): production_(6,_'B'),\n",
       " (7, 'A'): production_(7,_'A'),\n",
       " (7, 'B'): production_(7,_'B'),\n",
       " (8, 'A'): production_(8,_'A'),\n",
       " (8, 'B'): production_(8,_'B'),\n",
       " (9, 'A'): production_(9,_'A'),\n",
       " (9, 'B'): production_(9,_'B'),\n",
       " (10, 'A'): production_(10,_'A'),\n",
       " (10, 'B'): production_(10,_'B'),\n",
       " (11, 'A'): production_(11,_'A'),\n",
       " (11, 'B'): production_(11,_'B'),\n",
       " (12, 'A'): production_(12,_'A'),\n",
       " (12, 'B'): production_(12,_'B')}"
      ]
     },
     "execution_count": 42,
     "metadata": {},
     "output_type": "execute_result"
    }
   ],
   "source": [
    "production = pulp.LpVariable.dicts('production', ((month, factory) for month, factory in factories.index), lowBound=0, cat='Integer')\n",
    "production"
   ]
  },
  {
   "cell_type": "code",
   "execution_count": 43,
   "metadata": {},
   "outputs": [
    {
     "data": {
      "text/plain": [
       "{(1, 'A'): status_(1,_'A'),\n",
       " (1, 'B'): status_(1,_'B'),\n",
       " (2, 'A'): status_(2,_'A'),\n",
       " (2, 'B'): status_(2,_'B'),\n",
       " (3, 'A'): status_(3,_'A'),\n",
       " (3, 'B'): status_(3,_'B'),\n",
       " (4, 'A'): status_(4,_'A'),\n",
       " (4, 'B'): status_(4,_'B'),\n",
       " (5, 'A'): status_(5,_'A'),\n",
       " (5, 'B'): status_(5,_'B'),\n",
       " (6, 'A'): status_(6,_'A'),\n",
       " (6, 'B'): status_(6,_'B'),\n",
       " (7, 'A'): status_(7,_'A'),\n",
       " (7, 'B'): status_(7,_'B'),\n",
       " (8, 'A'): status_(8,_'A'),\n",
       " (8, 'B'): status_(8,_'B'),\n",
       " (9, 'A'): status_(9,_'A'),\n",
       " (9, 'B'): status_(9,_'B'),\n",
       " (10, 'A'): status_(10,_'A'),\n",
       " (10, 'B'): status_(10,_'B'),\n",
       " (11, 'A'): status_(11,_'A'),\n",
       " (11, 'B'): status_(11,_'B'),\n",
       " (12, 'A'): status_(12,_'A'),\n",
       " (12, 'B'): status_(12,_'B')}"
      ]
     },
     "execution_count": 43,
     "metadata": {},
     "output_type": "execute_result"
    }
   ],
   "source": [
    "status = pulp.LpVariable.dicts('status',((month, factory) for month, factory in factories .index), cat='Binary')\n",
    "status"
   ]
  },
  {
   "cell_type": "code",
   "execution_count": 69,
   "metadata": {},
   "outputs": [],
   "source": [
    "# Define model\n",
    "factory_model = pulp.LpProblem('factory cost minimisation', pulp.LpMinimize)"
   ]
  },
  {
   "cell_type": "code",
   "execution_count": 60,
   "metadata": {},
   "outputs": [
    {
     "data": {
      "text/plain": [
       "[10*production_(1,_'A') + 0,\n",
       " 5*production_(1,_'B') + 0,\n",
       " 11*production_(2,_'A') + 0,\n",
       " 4*production_(2,_'B') + 0,\n",
       " 12*production_(3,_'A') + 0,\n",
       " 3*production_(3,_'B') + 0,\n",
       " 9*production_(4,_'A') + 0,\n",
       " 5*production_(4,_'B') + 0,\n",
       " 8*production_(5,_'A') + 0,\n",
       " 0,\n",
       " 8*production_(6,_'A') + 0,\n",
       " 6*production_(6,_'B') + 0,\n",
       " 5*production_(7,_'A') + 0,\n",
       " 4*production_(7,_'B') + 0,\n",
       " 7*production_(8,_'A') + 0,\n",
       " 6*production_(8,_'B') + 0,\n",
       " 9*production_(9,_'A') + 0,\n",
       " 8*production_(9,_'B') + 0,\n",
       " 10*production_(10,_'A') + 0,\n",
       " 11*production_(10,_'B') + 0,\n",
       " 8*production_(11,_'A') + 0,\n",
       " 10*production_(11,_'B') + 0,\n",
       " 8*production_(12,_'A') + 0,\n",
       " 12*production_(12,_'B') + 0]"
      ]
     },
     "execution_count": 60,
     "metadata": {},
     "output_type": "execute_result"
    }
   ],
   "source": [
    "# Get Variable costs from production data\n",
    "[production[month, factory] for month, factory in factories.index]\n",
    "# Get variable cost from production data using .loc\n",
    "[factories.loc[(month, factory), 'Variable_Costs'] for month, factory in factories.index]\n",
    "\n",
    "# Multiply production variable and variable cost to get total variable cost\n",
    "[production[month, factory] * factories.loc[(month, factory),'Variable_Costs'] for month, factory in factories.index]"
   ]
  },
  {
   "cell_type": "code",
   "execution_count": 68,
   "metadata": {},
   "outputs": [
    {
     "data": {
      "text/plain": [
       "[10*status_(1,_'A') + 0,\n",
       " 5*status_(1,_'B') + 0,\n",
       " 11*status_(2,_'A') + 0,\n",
       " 4*status_(2,_'B') + 0,\n",
       " 12*status_(3,_'A') + 0,\n",
       " 3*status_(3,_'B') + 0,\n",
       " 9*status_(4,_'A') + 0,\n",
       " 5*status_(4,_'B') + 0,\n",
       " 8*status_(5,_'A') + 0,\n",
       " 0,\n",
       " 8*status_(6,_'A') + 0,\n",
       " 6*status_(6,_'B') + 0,\n",
       " 5*status_(7,_'A') + 0,\n",
       " 4*status_(7,_'B') + 0,\n",
       " 7*status_(8,_'A') + 0,\n",
       " 6*status_(8,_'B') + 0,\n",
       " 9*status_(9,_'A') + 0,\n",
       " 8*status_(9,_'B') + 0,\n",
       " 10*status_(10,_'A') + 0,\n",
       " 11*status_(10,_'B') + 0,\n",
       " 8*status_(11,_'A') + 0,\n",
       " 10*status_(11,_'B') + 0,\n",
       " 8*status_(12,_'A') + 0,\n",
       " 12*status_(12,_'B') + 0]"
      ]
     },
     "execution_count": 68,
     "metadata": {},
     "output_type": "execute_result"
    }
   ],
   "source": [
    "# Get fixed costs by multiplying the factory_status variable and the fixed cost value\n",
    "# status variable\n",
    "[status[(month, variable)] for month, variable in factories.index]\n",
    "# Fixed costs value from production data\n",
    "[factories.loc[(month, factory),'Fixed_Costs'] for month, factory in factories.index]\n",
    "\n",
    "# Multiplying both to get the fixed costs x status (to determine availability of fixed costs)\n",
    "[status[(month, variable)] * factories.loc[(month, variable), 'Variable_Costs']  for month, variable in factories.index]"
   ]
  },
  {
   "cell_type": "code",
   "execution_count": 72,
   "metadata": {},
   "outputs": [],
   "source": [
    "# Adding both these constraints to the model, \n",
    "factory_model += pulp.lpSum(\n",
    "[\n",
    "    [production[month, factory] * factories.loc[(month, factory),'Variable_Costs'] for month, factory in factories.index] +\n",
    "    [status[(month, variable)] * factories.loc[(month, variable), 'Variable_Costs']  for month, variable in factories.index]\n",
    "])"
   ]
  },
  {
   "cell_type": "code",
   "execution_count": 73,
   "metadata": {},
   "outputs": [],
   "source": [
    "# Add the demands constraint\n",
    "# Sum of the production of A and B must be equal to demand for the month\n",
    "for month in demand.index:\n",
    "    factory_model += production[(month,'A')] + production[(month, 'B')] == demand.loc[month, 'Demand']"
   ]
  },
  {
   "cell_type": "code",
   "execution_count": 75,
   "metadata": {},
   "outputs": [],
   "source": [
    "# Production for any factory in any month must be between minimum and maximum capacity\n",
    "# Factory must also be running\n",
    "for month, factory in factories.index:\n",
    "    min_production = factories.loc[(month, factory),'Min_Capacity']\n",
    "    max_production = factories.loc[(month, factory),'Max_Capacity']\n",
    "    factory_model += production[(month, factory)] >= min_production * status[month,factory]\n",
    "    factory_model += production[(month, factory)] <= max_production * status[month, factory]"
   ]
  },
  {
   "cell_type": "code",
   "execution_count": 76,
   "metadata": {},
   "outputs": [],
   "source": [
    "# Factory B is off in May\n",
    "factory_model += status[5,'B'] == 0\n",
    "factory_model += production[5,'B'] == 0"
   ]
  },
  {
   "cell_type": "code",
   "execution_count": 77,
   "metadata": {},
   "outputs": [
    {
     "data": {
      "text/plain": [
       "'Optimal'"
      ]
     },
     "execution_count": 77,
     "metadata": {},
     "output_type": "execute_result"
    }
   ],
   "source": [
    "# Solve the model\n",
    "factory_model.solve()\n",
    "pulp.LpStatus[factory_model.status]"
   ]
  },
  {
   "cell_type": "code",
   "execution_count": 85,
   "metadata": {},
   "outputs": [
    {
     "data": {
      "text/html": [
       "<div>\n",
       "<style scoped>\n",
       "    .dataframe tbody tr th:only-of-type {\n",
       "        vertical-align: middle;\n",
       "    }\n",
       "\n",
       "    .dataframe tbody tr th {\n",
       "        vertical-align: top;\n",
       "    }\n",
       "\n",
       "    .dataframe thead th {\n",
       "        text-align: right;\n",
       "    }\n",
       "</style>\n",
       "<table border=\"1\" class=\"dataframe\">\n",
       "  <thead>\n",
       "    <tr style=\"text-align: right;\">\n",
       "      <th></th>\n",
       "      <th></th>\n",
       "      <th>Factory Status</th>\n",
       "      <th>Production</th>\n",
       "    </tr>\n",
       "    <tr>\n",
       "      <th>Month</th>\n",
       "      <th>Factory</th>\n",
       "      <th></th>\n",
       "      <th></th>\n",
       "    </tr>\n",
       "  </thead>\n",
       "  <tbody>\n",
       "    <tr>\n",
       "      <th rowspan=\"2\" valign=\"top\">1</th>\n",
       "      <th>A</th>\n",
       "      <td>1.0</td>\n",
       "      <td>70000.0</td>\n",
       "    </tr>\n",
       "    <tr>\n",
       "      <th>B</th>\n",
       "      <td>1.0</td>\n",
       "      <td>50000.0</td>\n",
       "    </tr>\n",
       "    <tr>\n",
       "      <th rowspan=\"2\" valign=\"top\">2</th>\n",
       "      <th>A</th>\n",
       "      <td>1.0</td>\n",
       "      <td>45000.0</td>\n",
       "    </tr>\n",
       "    <tr>\n",
       "      <th>B</th>\n",
       "      <td>1.0</td>\n",
       "      <td>55000.0</td>\n",
       "    </tr>\n",
       "    <tr>\n",
       "      <th rowspan=\"2\" valign=\"top\">3</th>\n",
       "      <th>A</th>\n",
       "      <td>1.0</td>\n",
       "      <td>70000.0</td>\n",
       "    </tr>\n",
       "    <tr>\n",
       "      <th>B</th>\n",
       "      <td>1.0</td>\n",
       "      <td>60000.0</td>\n",
       "    </tr>\n",
       "    <tr>\n",
       "      <th rowspan=\"2\" valign=\"top\">4</th>\n",
       "      <th>A</th>\n",
       "      <td>1.0</td>\n",
       "      <td>30000.0</td>\n",
       "    </tr>\n",
       "    <tr>\n",
       "      <th>B</th>\n",
       "      <td>1.0</td>\n",
       "      <td>100000.0</td>\n",
       "    </tr>\n",
       "    <tr>\n",
       "      <th rowspan=\"2\" valign=\"top\">5</th>\n",
       "      <th>A</th>\n",
       "      <td>1.0</td>\n",
       "      <td>140000.0</td>\n",
       "    </tr>\n",
       "    <tr>\n",
       "      <th>B</th>\n",
       "      <td>0.0</td>\n",
       "      <td>0.0</td>\n",
       "    </tr>\n",
       "    <tr>\n",
       "      <th rowspan=\"2\" valign=\"top\">6</th>\n",
       "      <th>A</th>\n",
       "      <td>1.0</td>\n",
       "      <td>60000.0</td>\n",
       "    </tr>\n",
       "    <tr>\n",
       "      <th>B</th>\n",
       "      <td>1.0</td>\n",
       "      <td>70000.0</td>\n",
       "    </tr>\n",
       "    <tr>\n",
       "      <th rowspan=\"2\" valign=\"top\">7</th>\n",
       "      <th>A</th>\n",
       "      <td>1.0</td>\n",
       "      <td>90000.0</td>\n",
       "    </tr>\n",
       "    <tr>\n",
       "      <th>B</th>\n",
       "      <td>1.0</td>\n",
       "      <td>60000.0</td>\n",
       "    </tr>\n",
       "    <tr>\n",
       "      <th rowspan=\"2\" valign=\"top\">8</th>\n",
       "      <th>A</th>\n",
       "      <td>1.0</td>\n",
       "      <td>70000.0</td>\n",
       "    </tr>\n",
       "    <tr>\n",
       "      <th>B</th>\n",
       "      <td>1.0</td>\n",
       "      <td>100000.0</td>\n",
       "    </tr>\n",
       "    <tr>\n",
       "      <th rowspan=\"2\" valign=\"top\">9</th>\n",
       "      <th>A</th>\n",
       "      <td>1.0</td>\n",
       "      <td>100000.0</td>\n",
       "    </tr>\n",
       "    <tr>\n",
       "      <th>B</th>\n",
       "      <td>1.0</td>\n",
       "      <td>100000.0</td>\n",
       "    </tr>\n",
       "    <tr>\n",
       "      <th rowspan=\"2\" valign=\"top\">10</th>\n",
       "      <th>A</th>\n",
       "      <td>1.0</td>\n",
       "      <td>190000.0</td>\n",
       "    </tr>\n",
       "    <tr>\n",
       "      <th>B</th>\n",
       "      <td>0.0</td>\n",
       "      <td>0.0</td>\n",
       "    </tr>\n",
       "    <tr>\n",
       "      <th rowspan=\"2\" valign=\"top\">11</th>\n",
       "      <th>A</th>\n",
       "      <td>1.0</td>\n",
       "      <td>80000.0</td>\n",
       "    </tr>\n",
       "    <tr>\n",
       "      <th>B</th>\n",
       "      <td>1.0</td>\n",
       "      <td>60000.0</td>\n",
       "    </tr>\n",
       "    <tr>\n",
       "      <th rowspan=\"2\" valign=\"top\">12</th>\n",
       "      <th>A</th>\n",
       "      <td>1.0</td>\n",
       "      <td>100000.0</td>\n",
       "    </tr>\n",
       "    <tr>\n",
       "      <th>B</th>\n",
       "      <td>0.0</td>\n",
       "      <td>0.0</td>\n",
       "    </tr>\n",
       "  </tbody>\n",
       "</table>\n",
       "</div>"
      ],
      "text/plain": [
       "               Factory Status  Production\n",
       "Month Factory                            \n",
       "1     A                   1.0     70000.0\n",
       "      B                   1.0     50000.0\n",
       "2     A                   1.0     45000.0\n",
       "      B                   1.0     55000.0\n",
       "3     A                   1.0     70000.0\n",
       "      B                   1.0     60000.0\n",
       "4     A                   1.0     30000.0\n",
       "      B                   1.0    100000.0\n",
       "5     A                   1.0    140000.0\n",
       "      B                   0.0         0.0\n",
       "6     A                   1.0     60000.0\n",
       "      B                   1.0     70000.0\n",
       "7     A                   1.0     90000.0\n",
       "      B                   1.0     60000.0\n",
       "8     A                   1.0     70000.0\n",
       "      B                   1.0    100000.0\n",
       "9     A                   1.0    100000.0\n",
       "      B                   1.0    100000.0\n",
       "10    A                   1.0    190000.0\n",
       "      B                   0.0         0.0\n",
       "11    A                   1.0     80000.0\n",
       "      B                   1.0     60000.0\n",
       "12    A                   1.0    100000.0\n",
       "      B                   0.0         0.0"
      ]
     },
     "execution_count": 85,
     "metadata": {},
     "output_type": "execute_result"
    }
   ],
   "source": [
    "output = []\n",
    "for month, factory in production:\n",
    "    var_output = {\n",
    "        'Month':month,\n",
    "        'Factory':factory,\n",
    "        'Production':production[(month, factory)].varValue,\n",
    "        'Factory Status':status[(month, factory)].varValue\n",
    "    }\n",
    "    output.append(var_output)\n",
    "output_df = pd.DataFrame(output)\n",
    "output_df.set_index(['Month','Factory'], inplace=True)\n",
    "output_df"
   ]
  },
  {
   "cell_type": "code",
   "execution_count": 86,
   "metadata": {},
   "outputs": [
    {
     "data": {
      "text/plain": [
       "12895156.0"
      ]
     },
     "execution_count": 86,
     "metadata": {},
     "output_type": "execute_result"
    }
   ],
   "source": [
    "# Print objective function value - Total costs\n",
    "pulp.value(factory_model.objective)"
   ]
  },
  {
   "cell_type": "code",
   "execution_count": 87,
   "metadata": {},
   "outputs": [
    {
     "ename": "NameError",
     "evalue": "name 'IOx1' is not defined",
     "output_type": "error",
     "traceback": [
      "\u001b[0;31m---------------------------------------------------------------------------\u001b[0m",
      "\u001b[0;31mNameError\u001b[0m                                 Traceback (most recent call last)",
      "\u001b[0;32m<ipython-input-87-aa65737481ad>\u001b[0m in \u001b[0;36m<module>\u001b[0;34m\u001b[0m\n\u001b[0;32m----> 1\u001b[0;31m \u001b[0mIOx1\u001b[0m\u001b[0;34m\u001b[0m\u001b[0;34m\u001b[0m\u001b[0m\n\u001b[0m",
      "\u001b[0;31mNameError\u001b[0m: name 'IOx1' is not defined"
     ]
    }
   ],
   "source": []
  },
  {
   "cell_type": "code",
   "execution_count": 88,
   "metadata": {},
   "outputs": [],
   "source": [
    "def make_io_and_constraint(y1, x1, x2, target_x1, target_x2):\n",
    "    \"\"\"\n",
    "    Returns a list of constraints for a linear programming model\n",
    "    that will constrain y1 to 1 when\n",
    "    x1 = target_x1 and x2 = target_x2; \n",
    "    where target_x1 and target_x2 are 1 or 0\n",
    "    \"\"\"\n",
    "    binary = [0,1]\n",
    "    assert target_x1 in binary\n",
    "    assert target_x2 in binary\n",
    "    \n",
    "    if target_x1 == 1 and target_x2 == 1:\n",
    "        return [\n",
    "            y1 >= x1 + x2 - 1,\n",
    "            y1 <= x1,\n",
    "            y1 <= x2\n",
    "        ]\n",
    "    elif target_x1 == 1 and target_x2 == 0:\n",
    "        return [\n",
    "            y1 >= x1 - x2,\n",
    "            y1 <= x1,\n",
    "            y1 <= (1 - x2)\n",
    "        ]\n",
    "    elif target_x1 == 0 and target_x2 == 1:\n",
    "        return [\n",
    "            y1 >= x2 - x1,\n",
    "            y1 <= (1 - x1),\n",
    "            y1 <= x2\n",
    "        ]\n",
    "    else:\n",
    "        return [\n",
    "            y1 >= - (x1 + x2 -1),\n",
    "            y1 <= (1 - x1),\n",
    "            y1 <= (1 - x2)\n",
    "        ]"
   ]
  },
  {
   "cell_type": "code",
   "execution_count": 115,
   "metadata": {},
   "outputs": [
    {
     "data": {
      "text/plain": [
       "[-1*a + 1*b + 1*y + 0 >= 0, -1*a + 1*y + 0 <= 0, 1*b + 1*y + -1 <= 0]"
      ]
     },
     "execution_count": 115,
     "metadata": {},
     "output_type": "execute_result"
    }
   ],
   "source": [
    "make_io_and_constraint(y, a, b, 1, 0)"
   ]
  },
  {
   "cell_type": "code",
   "execution_count": null,
   "metadata": {},
   "outputs": [],
   "source": []
  }
 ],
 "metadata": {
  "kernelspec": {
   "display_name": "Python 3",
   "language": "python",
   "name": "python3"
  },
  "language_info": {
   "codemirror_mode": {
    "name": "ipython",
    "version": 3
   },
   "file_extension": ".py",
   "mimetype": "text/x-python",
   "name": "python",
   "nbconvert_exporter": "python",
   "pygments_lexer": "ipython3",
   "version": "3.7.1"
  }
 },
 "nbformat": 4,
 "nbformat_minor": 2
}
