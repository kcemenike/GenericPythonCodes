{
 "cells": [
  {
   "cell_type": "markdown",
   "metadata": {},
   "source": [
    "## 3 ways to reverse a list"
   ]
  },
  {
   "cell_type": "code",
   "execution_count": 1,
   "metadata": {},
   "outputs": [
    {
     "data": {
      "text/plain": [
       "'nmuvbeakgchxqtipki'"
      ]
     },
     "execution_count": 1,
     "metadata": {},
     "output_type": "execute_result"
    }
   ],
   "source": [
    "def reverseList(L):\n",
    "    assert type(L) is list\n",
    "    # Option 1\n",
    "    # L.reverse()\n",
    "    # return ''.join(L)\n",
    "    \n",
    "    # Option 2\n",
    "    return ''.join(L[::-1])\n",
    "    \n",
    "    # Option 3\n",
    "    # return ''.join(list(reversed(L)))\n",
    "\n",
    "reverseList(['pki', 'qti', 'chx', 'akg', 'vbe', 'nmu'])"
   ]
  },
  {
   "cell_type": "code",
   "execution_count": 2,
   "metadata": {},
   "outputs": [
    {
     "data": {
      "text/plain": [
       "'nmuvbeakgchxqtipki'"
      ]
     },
     "execution_count": 2,
     "metadata": {},
     "output_type": "execute_result"
    }
   ],
   "source": [
    "def reverseList(L):\n",
    "    assert type(L) is list\n",
    "    # Option 1\n",
    "    L.reverse()\n",
    "    return ''.join(L)\n",
    "\n",
    "reverseList(['pki', 'qti', 'chx', 'akg', 'vbe', 'nmu'])"
   ]
  },
  {
   "cell_type": "code",
   "execution_count": 3,
   "metadata": {},
   "outputs": [
    {
     "data": {
      "text/plain": [
       "'nmuvbeakgchxqtipki'"
      ]
     },
     "execution_count": 3,
     "metadata": {},
     "output_type": "execute_result"
    }
   ],
   "source": [
    "def reverseList(L):\n",
    "    assert type(L) is list\n",
    "    # Option 2\n",
    "    return ''.join(L[::-1])\n",
    "\n",
    "reverseList(['pki', 'qti', 'chx', 'akg', 'vbe', 'nmu'])"
   ]
  },
  {
   "cell_type": "code",
   "execution_count": 4,
   "metadata": {},
   "outputs": [
    {
     "data": {
      "text/plain": [
       "'nmuvbeakgchxqtipki'"
      ]
     },
     "execution_count": 4,
     "metadata": {},
     "output_type": "execute_result"
    }
   ],
   "source": [
    "def reverseList(L):\n",
    "    assert type(L) is list\n",
    "    # Option 3\n",
    "    return ''.join(list(reversed(L)))\n",
    "\n",
    "reverseList(['pki', 'qti', 'chx', 'akg', 'vbe', 'nmu'])"
   ]
  },
  {
   "cell_type": "code",
   "execution_count": null,
   "metadata": {},
   "outputs": [],
   "source": []
  }
 ],
 "metadata": {
  "kernelspec": {
   "display_name": "Python 3",
   "language": "python",
   "name": "python3"
  },
  "language_info": {
   "codemirror_mode": {
    "name": "ipython",
    "version": 3
   },
   "file_extension": ".py",
   "mimetype": "text/x-python",
   "name": "python",
   "nbconvert_exporter": "python",
   "pygments_lexer": "ipython3",
   "version": "3.6.5"
  }
 },
 "nbformat": 4,
 "nbformat_minor": 2
}
