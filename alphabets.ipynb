{
 "cells": [
  {
   "cell_type": "markdown",
   "metadata": {},
   "source": [
    "# Print list of alphabets as a list or string\n",
    "- create range of alphabets \n",
    " - range(ord('a') to ord('z')+1)\n",
    " - The + 1 is because we want to include z\n",
    "- use the map function with chr to convert each item in the range to character\n",
    " - map(chr, range(ord('a'), ord('z')+1))\n",
    "- If you want to return a list, just wrap it around with list\n",
    " - list(map(chr, range(ord('a'), ord('z')+1)))\n",
    "- if you want to return a no-spaced string, just use the join method with '' instead\n",
    " - ''.join(map(chr, range(ord('a'), ord('z')+1)))\n",
    " \n",
    "### To extend, just change the arguments in the ord function\n",
    "- ''.join(map(chr, range(ord('A'), ord('z')+1)))\n"
   ]
  },
  {
   "cell_type": "code",
   "execution_count": 1,
   "metadata": {},
   "outputs": [
    {
     "data": {
      "text/plain": [
       "'abcdefghijklmnopqrstuvwxyz'"
      ]
     },
     "execution_count": 1,
     "metadata": {},
     "output_type": "execute_result"
    }
   ],
   "source": [
    "''.join(map(chr, range(ord('a'), ord('z')+1)))"
   ]
  },
  {
   "cell_type": "code",
   "execution_count": 2,
   "metadata": {},
   "outputs": [
    {
     "data": {
      "text/plain": [
       "'ABCDEFGHIJKLMNOPQRSTUVWXYZ[\\\\]^_`abcdefghijklmnopqrstuvwxyz'"
      ]
     },
     "execution_count": 2,
     "metadata": {},
     "output_type": "execute_result"
    }
   ],
   "source": [
    "''.join(map(chr, range(ord('A'), ord('z')+1)))"
   ]
  }
 ],
 "metadata": {
  "kernelspec": {
   "display_name": "Python 3",
   "language": "python",
   "name": "python3"
  },
  "language_info": {
   "codemirror_mode": {
    "name": "ipython",
    "version": 3
   },
   "file_extension": ".py",
   "mimetype": "text/x-python",
   "name": "python",
   "nbconvert_exporter": "python",
   "pygments_lexer": "ipython3",
   "version": "3.7.0"
  }
 },
 "nbformat": 4,
 "nbformat_minor": 2
}
